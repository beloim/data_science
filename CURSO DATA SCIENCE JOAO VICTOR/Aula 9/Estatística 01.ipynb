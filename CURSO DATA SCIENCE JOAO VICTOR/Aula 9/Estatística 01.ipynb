{
 "cells": [
  {
   "cell_type": "markdown",
   "id": "bfc1db86",
   "metadata": {},
   "source": [
    "### medidas de tendencia central"
   ]
  },
  {
   "cell_type": "code",
   "execution_count": 1,
   "id": "9eef9060",
   "metadata": {},
   "outputs": [],
   "source": [
    "#importaçoes\n",
    "import numpy as np\n",
    "import pandas as pd\n",
    "import seaborn as sns\n",
    "import statistics as st\n",
    "import matplotlib.pyplot as plt"
   ]
  },
  {
   "cell_type": "markdown",
   "id": "11a0ce5a",
   "metadata": {},
   "source": [
    "### media aritmetica"
   ]
  },
  {
   "cell_type": "markdown",
   "id": "0fc9c065",
   "metadata": {},
   "source": [
    "#### a media ea somatoria de todos os valores de um conjunto de dados, dividido pela\n",
    "#### quantiade(n)"
   ]
  },
  {
   "cell_type": "markdown",
   "id": "aaa237bc",
   "metadata": {},
   "source": [
    "#### tambem podemos dizer que a media é o ponto de equilibrio de uma variavel"
   ]
  },
  {
   "cell_type": "code",
   "execution_count": 2,
   "id": "c8d766ab",
   "metadata": {},
   "outputs": [],
   "source": [
    "#media=(10+7+5+8+1)\n",
    "notas =(1,5,7,8,10)\n",
    "soma=sum(notas)"
   ]
  },
  {
   "cell_type": "code",
   "execution_count": 3,
   "id": "8a81ce81",
   "metadata": {},
   "outputs": [
    {
     "name": "stdout",
     "output_type": "stream",
     "text": [
      "Media com statistics: 6.2\n",
      "Media com numpy: 6.2\n",
      "Media com pandas Series: 6.2\n"
     ]
    }
   ],
   "source": [
    "#calculando a media dom statistics\n",
    "media_st = st.mean(notas)\n",
    "print('Media com statistics:',media_st)\n",
    "\n",
    "#calculando a media com numpy\n",
    "media_np=np.array(notas).mean()\n",
    "print('Media com numpy:',media_np)\n",
    "\n",
    "#calculando media com pandas\n",
    "media_pd=pd.Series(notas).mean()\n",
    "print('Media com pandas Series:',media_pd)"
   ]
  },
  {
   "cell_type": "code",
   "execution_count": 4,
   "id": "963909ec",
   "metadata": {},
   "outputs": [
    {
     "data": {
      "text/html": [
       "<div>\n",
       "<style scoped>\n",
       "    .dataframe tbody tr th:only-of-type {\n",
       "        vertical-align: middle;\n",
       "    }\n",
       "\n",
       "    .dataframe tbody tr th {\n",
       "        vertical-align: top;\n",
       "    }\n",
       "\n",
       "    .dataframe thead th {\n",
       "        text-align: right;\n",
       "    }\n",
       "</style>\n",
       "<table border=\"1\" class=\"dataframe\">\n",
       "  <thead>\n",
       "    <tr style=\"text-align: right;\">\n",
       "      <th></th>\n",
       "      <th>nota1</th>\n",
       "      <th>nota2</th>\n",
       "    </tr>\n",
       "  </thead>\n",
       "  <tbody>\n",
       "    <tr>\n",
       "      <th>0</th>\n",
       "      <td>1</td>\n",
       "      <td>2</td>\n",
       "    </tr>\n",
       "    <tr>\n",
       "      <th>1</th>\n",
       "      <td>5</td>\n",
       "      <td>8</td>\n",
       "    </tr>\n",
       "    <tr>\n",
       "      <th>2</th>\n",
       "      <td>7</td>\n",
       "      <td>5</td>\n",
       "    </tr>\n",
       "    <tr>\n",
       "      <th>3</th>\n",
       "      <td>8</td>\n",
       "      <td>6</td>\n",
       "    </tr>\n",
       "    <tr>\n",
       "      <th>4</th>\n",
       "      <td>10</td>\n",
       "      <td>9</td>\n",
       "    </tr>\n",
       "  </tbody>\n",
       "</table>\n",
       "</div>"
      ],
      "text/plain": [
       "   nota1  nota2\n",
       "0      1      2\n",
       "1      5      8\n",
       "2      7      5\n",
       "3      8      6\n",
       "4     10      9"
      ]
     },
     "metadata": {},
     "output_type": "display_data"
    }
   ],
   "source": [
    "#calculando as media com pandas DataFrame\n",
    "df=pd.DataFrame(notas,columns=['nota1'])\n",
    "df['nota2']=[2,8,5,6,9]\n",
    "display(df)"
   ]
  },
  {
   "cell_type": "code",
   "execution_count": 5,
   "id": "ecb3f2b4",
   "metadata": {},
   "outputs": [
    {
     "name": "stdout",
     "output_type": "stream",
     "text": [
      "<bound method NDFrame._add_numeric_operations.<locals>.mean of    nota1  nota2\n",
      "0      1      2\n",
      "1      5      8\n",
      "2      7      5\n",
      "3      8      6\n",
      "4     10      9>\n"
     ]
    }
   ],
   "source": [
    "#calcula a media de todas as colunas, retornando uma serie\n",
    "print(df.mean)"
   ]
  },
  {
   "cell_type": "code",
   "execution_count": 6,
   "id": "e4563b7d",
   "metadata": {},
   "outputs": [
    {
     "name": "stdout",
     "output_type": "stream",
     "text": [
      "6.2\n"
     ]
    }
   ],
   "source": [
    "#calcula a media de uma unica coluna,retornando um float\n",
    "print(df.nota1.mean())"
   ]
  },
  {
   "cell_type": "code",
   "execution_count": 7,
   "id": "d4973292",
   "metadata": {},
   "outputs": [
    {
     "ename": "SyntaxError",
     "evalue": "invalid syntax (3314973879.py, line 4)",
     "output_type": "error",
     "traceback": [
      "\u001b[1;36m  File \u001b[1;32m\"C:\\Users\\Aluno 304\\AppData\\Local\\Temp\\ipykernel_1188\\3314973879.py\"\u001b[1;36m, line \u001b[1;32m4\u001b[0m\n\u001b[1;33m    'Idade':[41,72,53,17,40,30,68,22]\u001b[0m\n\u001b[1;37m    ^\u001b[0m\n\u001b[1;31mSyntaxError\u001b[0m\u001b[1;31m:\u001b[0m invalid syntax\n"
     ]
    }
   ],
   "source": [
    "#calculando a media por grupo com pandas DataFrame\n",
    "df=pd.DataFrame({\n",
    "                'Sexo':['M','F','M','F','M','F','M','F']\n",
    "                'Idade':[41,72,53,17,40,30,68,22]\n",
    "})\n",
    "display(df)"
   ]
  },
  {
   "cell_type": "code",
   "execution_count": 8,
   "id": "2a2145ae",
   "metadata": {},
   "outputs": [
    {
     "ename": "KeyError",
     "evalue": "'Sexo'",
     "output_type": "error",
     "traceback": [
      "\u001b[1;31m---------------------------------------------------------------------------\u001b[0m",
      "\u001b[1;31mKeyError\u001b[0m                                  Traceback (most recent call last)",
      "\u001b[1;32m~\\AppData\\Local\\Temp\\ipykernel_1188\\852756297.py\u001b[0m in \u001b[0;36m<module>\u001b[1;34m\u001b[0m\n\u001b[0;32m      1\u001b[0m \u001b[1;31m#calcula a media da idade por sexo,retornando uma serie\u001b[0m\u001b[1;33m\u001b[0m\u001b[1;33m\u001b[0m\u001b[0m\n\u001b[1;32m----> 2\u001b[1;33m \u001b[0mmedia_por_sexo\u001b[0m\u001b[1;33m=\u001b[0m\u001b[0mdf\u001b[0m\u001b[1;33m.\u001b[0m\u001b[0mgroupby\u001b[0m\u001b[1;33m(\u001b[0m\u001b[1;34m'Sexo'\u001b[0m\u001b[1;33m)\u001b[0m\u001b[1;33m[\u001b[0m\u001b[1;34m'Idade'\u001b[0m\u001b[1;33m]\u001b[0m\u001b[1;33m.\u001b[0m\u001b[0mmean\u001b[0m\u001b[1;33m(\u001b[0m\u001b[1;33m)\u001b[0m\u001b[1;33m\u001b[0m\u001b[1;33m\u001b[0m\u001b[0m\n\u001b[0m\u001b[0;32m      3\u001b[0m \u001b[0mprint\u001b[0m\u001b[1;33m(\u001b[0m\u001b[0mmedia_por_sexo\u001b[0m\u001b[1;33m)\u001b[0m\u001b[1;33m\u001b[0m\u001b[1;33m\u001b[0m\u001b[0m\n",
      "\u001b[1;32m~\\anaconda3\\lib\\site-packages\\pandas\\core\\frame.py\u001b[0m in \u001b[0;36mgroupby\u001b[1;34m(self, by, axis, level, as_index, sort, group_keys, squeeze, observed, dropna)\u001b[0m\n\u001b[0;32m   7719\u001b[0m         \u001b[1;31m# error: Argument \"squeeze\" to \"DataFrameGroupBy\" has incompatible type\u001b[0m\u001b[1;33m\u001b[0m\u001b[1;33m\u001b[0m\u001b[0m\n\u001b[0;32m   7720\u001b[0m         \u001b[1;31m# \"Union[bool, NoDefault]\"; expected \"bool\"\u001b[0m\u001b[1;33m\u001b[0m\u001b[1;33m\u001b[0m\u001b[0m\n\u001b[1;32m-> 7721\u001b[1;33m         return DataFrameGroupBy(\n\u001b[0m\u001b[0;32m   7722\u001b[0m             \u001b[0mobj\u001b[0m\u001b[1;33m=\u001b[0m\u001b[0mself\u001b[0m\u001b[1;33m,\u001b[0m\u001b[1;33m\u001b[0m\u001b[1;33m\u001b[0m\u001b[0m\n\u001b[0;32m   7723\u001b[0m             \u001b[0mkeys\u001b[0m\u001b[1;33m=\u001b[0m\u001b[0mby\u001b[0m\u001b[1;33m,\u001b[0m\u001b[1;33m\u001b[0m\u001b[1;33m\u001b[0m\u001b[0m\n",
      "\u001b[1;32m~\\anaconda3\\lib\\site-packages\\pandas\\core\\groupby\\groupby.py\u001b[0m in \u001b[0;36m__init__\u001b[1;34m(self, obj, keys, axis, level, grouper, exclusions, selection, as_index, sort, group_keys, squeeze, observed, mutated, dropna)\u001b[0m\n\u001b[0;32m    880\u001b[0m             \u001b[1;32mfrom\u001b[0m \u001b[0mpandas\u001b[0m\u001b[1;33m.\u001b[0m\u001b[0mcore\u001b[0m\u001b[1;33m.\u001b[0m\u001b[0mgroupby\u001b[0m\u001b[1;33m.\u001b[0m\u001b[0mgrouper\u001b[0m \u001b[1;32mimport\u001b[0m \u001b[0mget_grouper\u001b[0m\u001b[1;33m\u001b[0m\u001b[1;33m\u001b[0m\u001b[0m\n\u001b[0;32m    881\u001b[0m \u001b[1;33m\u001b[0m\u001b[0m\n\u001b[1;32m--> 882\u001b[1;33m             grouper, exclusions, obj = get_grouper(\n\u001b[0m\u001b[0;32m    883\u001b[0m                 \u001b[0mobj\u001b[0m\u001b[1;33m,\u001b[0m\u001b[1;33m\u001b[0m\u001b[1;33m\u001b[0m\u001b[0m\n\u001b[0;32m    884\u001b[0m                 \u001b[0mkeys\u001b[0m\u001b[1;33m,\u001b[0m\u001b[1;33m\u001b[0m\u001b[1;33m\u001b[0m\u001b[0m\n",
      "\u001b[1;32m~\\anaconda3\\lib\\site-packages\\pandas\\core\\groupby\\grouper.py\u001b[0m in \u001b[0;36mget_grouper\u001b[1;34m(obj, key, axis, level, sort, observed, mutated, validate, dropna)\u001b[0m\n\u001b[0;32m    880\u001b[0m                 \u001b[0min_axis\u001b[0m\u001b[1;33m,\u001b[0m \u001b[0mlevel\u001b[0m\u001b[1;33m,\u001b[0m \u001b[0mgpr\u001b[0m \u001b[1;33m=\u001b[0m \u001b[1;32mFalse\u001b[0m\u001b[1;33m,\u001b[0m \u001b[0mgpr\u001b[0m\u001b[1;33m,\u001b[0m \u001b[1;32mNone\u001b[0m\u001b[1;33m\u001b[0m\u001b[1;33m\u001b[0m\u001b[0m\n\u001b[0;32m    881\u001b[0m             \u001b[1;32melse\u001b[0m\u001b[1;33m:\u001b[0m\u001b[1;33m\u001b[0m\u001b[1;33m\u001b[0m\u001b[0m\n\u001b[1;32m--> 882\u001b[1;33m                 \u001b[1;32mraise\u001b[0m \u001b[0mKeyError\u001b[0m\u001b[1;33m(\u001b[0m\u001b[0mgpr\u001b[0m\u001b[1;33m)\u001b[0m\u001b[1;33m\u001b[0m\u001b[1;33m\u001b[0m\u001b[0m\n\u001b[0m\u001b[0;32m    883\u001b[0m         \u001b[1;32melif\u001b[0m \u001b[0misinstance\u001b[0m\u001b[1;33m(\u001b[0m\u001b[0mgpr\u001b[0m\u001b[1;33m,\u001b[0m \u001b[0mGrouper\u001b[0m\u001b[1;33m)\u001b[0m \u001b[1;32mand\u001b[0m \u001b[0mgpr\u001b[0m\u001b[1;33m.\u001b[0m\u001b[0mkey\u001b[0m \u001b[1;32mis\u001b[0m \u001b[1;32mnot\u001b[0m \u001b[1;32mNone\u001b[0m\u001b[1;33m:\u001b[0m\u001b[1;33m\u001b[0m\u001b[1;33m\u001b[0m\u001b[0m\n\u001b[0;32m    884\u001b[0m             \u001b[1;31m# Add key to exclusions\u001b[0m\u001b[1;33m\u001b[0m\u001b[1;33m\u001b[0m\u001b[0m\n",
      "\u001b[1;31mKeyError\u001b[0m: 'Sexo'"
     ]
    }
   ],
   "source": [
    "#calcula a media da idade por sexo,retornando uma serie\n",
    "media_por_sexo=df.groupby('Sexo')['Idade'].mean()\n",
    "print(media_por_sexo)"
   ]
  },
  {
   "cell_type": "markdown",
   "id": "2a4a36b7",
   "metadata": {},
   "source": [
    "### Mediana"
   ]
  },
  {
   "cell_type": "code",
   "execution_count": 9,
   "id": "d8d0fbc4",
   "metadata": {},
   "outputs": [
    {
     "name": "stdout",
     "output_type": "stream",
     "text": [
      "[10, 3, 7, 5, 8, 1]\n",
      "[1, 3, 5, 7, 8, 10]\n",
      "n= 6\n",
      "Posiçao par: 3\n",
      "Mediana: 6.0\n"
     ]
    }
   ],
   "source": [
    "notas=[10,3,7,5,8,1]\n",
    "print(notas)\n",
    "\n",
    "#a.ordenar os dados\n",
    "notas=sorted(notas)\n",
    "print(notas)\n",
    "\n",
    "#b.identificar o numero de observaçoes\n",
    "n=len(notas)\n",
    "print('n=',n)\n",
    "\n",
    "#c.identificar o elemento mediano\n",
    "if (n % 2)==1:\n",
    "    posicao=(n+1)//2\n",
    "    print('Posiçao impar:',posicao)\n",
    "    #devemos subtrair -1, pois o indice da lista inicia em 0\n",
    "    print('Mediana:',notas(posicao-1))\n",
    "#se n for par\n",
    "else:\n",
    "    posicao=n//2\n",
    "    print('Posiçao par:',posicao)\n",
    "    #soma os valores dos elementos proximos ao meio\n",
    "    print('Mediana:',(notas[posicao - 1]+notas[posicao])/2)"
   ]
  },
  {
   "cell_type": "code",
   "execution_count": 10,
   "id": "0696d3b0",
   "metadata": {},
   "outputs": [
    {
     "name": "stdout",
     "output_type": "stream",
     "text": [
      "Mediana com statistics 6.0\n",
      "Mediana com numpy 6.0\n",
      "Mediana com pandas Series: 6.0\n",
      "Medaiana com quantile: 6.0\n"
     ]
    }
   ],
   "source": [
    "#calculando mediana com statistics\n",
    "mediana_st=st.median(notas)\n",
    "print('Mediana com statistics',mediana_st)\n",
    "\n",
    "#calculando mediana com numpy\n",
    "mediana_np=np.median(np.array(notas))\n",
    "print('Mediana com numpy',mediana_np)\n",
    "\n",
    "#calculando mediana com pandas Series\n",
    "mediana_pd=pd.Series(notas).median()\n",
    "print('Mediana com pandas Series:',mediana_pd)\n",
    "\n",
    "#tambem podemos utilizar a funçao quantile()\n",
    "print('Medaiana com quantile:',pd.Series(notas).quantile(0.5))"
   ]
  },
  {
   "cell_type": "code",
   "execution_count": 11,
   "id": "3485cefd",
   "metadata": {},
   "outputs": [
    {
     "data": {
      "text/html": [
       "<div>\n",
       "<style scoped>\n",
       "    .dataframe tbody tr th:only-of-type {\n",
       "        vertical-align: middle;\n",
       "    }\n",
       "\n",
       "    .dataframe tbody tr th {\n",
       "        vertical-align: top;\n",
       "    }\n",
       "\n",
       "    .dataframe thead th {\n",
       "        text-align: right;\n",
       "    }\n",
       "</style>\n",
       "<table border=\"1\" class=\"dataframe\">\n",
       "  <thead>\n",
       "    <tr style=\"text-align: right;\">\n",
       "      <th></th>\n",
       "      <th>nota1</th>\n",
       "      <th>nota2</th>\n",
       "    </tr>\n",
       "  </thead>\n",
       "  <tbody>\n",
       "    <tr>\n",
       "      <th>0</th>\n",
       "      <td>1</td>\n",
       "      <td>2</td>\n",
       "    </tr>\n",
       "    <tr>\n",
       "      <th>1</th>\n",
       "      <td>3</td>\n",
       "      <td>8</td>\n",
       "    </tr>\n",
       "    <tr>\n",
       "      <th>2</th>\n",
       "      <td>5</td>\n",
       "      <td>5</td>\n",
       "    </tr>\n",
       "    <tr>\n",
       "      <th>3</th>\n",
       "      <td>7</td>\n",
       "      <td>6</td>\n",
       "    </tr>\n",
       "    <tr>\n",
       "      <th>4</th>\n",
       "      <td>8</td>\n",
       "      <td>9</td>\n",
       "    </tr>\n",
       "    <tr>\n",
       "      <th>5</th>\n",
       "      <td>10</td>\n",
       "      <td>1</td>\n",
       "    </tr>\n",
       "  </tbody>\n",
       "</table>\n",
       "</div>"
      ],
      "text/plain": [
       "   nota1  nota2\n",
       "0      1      2\n",
       "1      3      8\n",
       "2      5      5\n",
       "3      7      6\n",
       "4      8      9\n",
       "5     10      1"
      ]
     },
     "metadata": {},
     "output_type": "display_data"
    },
    {
     "name": "stdout",
     "output_type": "stream",
     "text": [
      "nota1    6.0\n",
      "nota2    5.5\n",
      "dtype: float64\n",
      "6.0\n",
      "6.0\n"
     ]
    }
   ],
   "source": [
    "#calculando mediana com pandas DataFrame\n",
    "df=pd.DataFrame(columns=['nota1'],data=notas)\n",
    "df['nota2']=[2,8,5,6,9,1]\n",
    "display(df)\n",
    "\n",
    "#calcula mediana de todas as colunas do dataframe\n",
    "print(df.median())\n",
    "\n",
    "#calcula a mediana de uma unica coluna do dataframe(é uma Series)\n",
    "print(df.nota1.median())\n",
    "#ou com quantile\n",
    "print(df.nota1.quantile())"
   ]
  },
  {
   "cell_type": "markdown",
   "id": "a0341cf4",
   "metadata": {},
   "source": [
    "### moda"
   ]
  },
  {
   "cell_type": "code",
   "execution_count": 12,
   "id": "89504f42",
   "metadata": {},
   "outputs": [
    {
     "name": "stdout",
     "output_type": "stream",
     "text": [
      "Modas com statistics 3 15 kiwi\n",
      "Moda com panda Series:\n",
      " [3 7] \n",
      " [15 26] \n",
      " ['kiwi']\n"
     ]
    }
   ],
   "source": [
    "#vemos que mais aparece é o 7, sendo portando 7 a nota modelo\n",
    "notas=[10,3,7,5,7,8,3]\n",
    "\n",
    "#aqui temos duas modas:15 e 26, entao chamamos de multimodal\n",
    "idades=[15,71,26,15,33,26,15,9,26]\n",
    "\n",
    "#dados qualitativos\n",
    "frutas=['uvas','banana','uva','kiwi','kiwi','uva','kiwi']\n",
    "\n",
    "#calculando a moda com statistics\n",
    "#para multimodal calcula somente o primeira moda\n",
    "print('Modas com statistics',st.mode(notas),\n",
    "                             st.mode(idades),\n",
    "                             st.mode(frutas))\n",
    "#nao existea funçao numpy.mode()\n",
    "\n",
    "#calculando moda com pandas Series\n",
    "s_notas=pd.Series(notas)\n",
    "s_idades=pd.Series(idades)\n",
    "s_frutas=pd.Series(frutas)\n",
    "#retorna uma serie com todas as modas\n",
    "print('Moda com panda Series:\\n',\n",
    "      s_notas.mode().values,'\\n',\n",
    "      s_idades.mode().values,'\\n',\n",
    "      s_frutas.mode().values)"
   ]
  },
  {
   "cell_type": "code",
   "execution_count": 13,
   "id": "8b60c941",
   "metadata": {},
   "outputs": [
    {
     "data": {
      "text/html": [
       "<div>\n",
       "<style scoped>\n",
       "    .dataframe tbody tr th:only-of-type {\n",
       "        vertical-align: middle;\n",
       "    }\n",
       "\n",
       "    .dataframe tbody tr th {\n",
       "        vertical-align: top;\n",
       "    }\n",
       "\n",
       "    .dataframe thead th {\n",
       "        text-align: right;\n",
       "    }\n",
       "</style>\n",
       "<table border=\"1\" class=\"dataframe\">\n",
       "  <thead>\n",
       "    <tr style=\"text-align: right;\">\n",
       "      <th></th>\n",
       "      <th>nota1</th>\n",
       "      <th>nota2</th>\n",
       "      <th>frutas</th>\n",
       "    </tr>\n",
       "  </thead>\n",
       "  <tbody>\n",
       "    <tr>\n",
       "      <th>0</th>\n",
       "      <td>10</td>\n",
       "      <td>2</td>\n",
       "      <td>uvas</td>\n",
       "    </tr>\n",
       "    <tr>\n",
       "      <th>1</th>\n",
       "      <td>3</td>\n",
       "      <td>8</td>\n",
       "      <td>banana</td>\n",
       "    </tr>\n",
       "    <tr>\n",
       "      <th>2</th>\n",
       "      <td>7</td>\n",
       "      <td>5</td>\n",
       "      <td>uva</td>\n",
       "    </tr>\n",
       "    <tr>\n",
       "      <th>3</th>\n",
       "      <td>5</td>\n",
       "      <td>6</td>\n",
       "      <td>kiwi</td>\n",
       "    </tr>\n",
       "    <tr>\n",
       "      <th>4</th>\n",
       "      <td>7</td>\n",
       "      <td>9</td>\n",
       "      <td>kiwi</td>\n",
       "    </tr>\n",
       "    <tr>\n",
       "      <th>5</th>\n",
       "      <td>8</td>\n",
       "      <td>8</td>\n",
       "      <td>uva</td>\n",
       "    </tr>\n",
       "    <tr>\n",
       "      <th>6</th>\n",
       "      <td>3</td>\n",
       "      <td>6</td>\n",
       "      <td>kiwi</td>\n",
       "    </tr>\n",
       "  </tbody>\n",
       "</table>\n",
       "</div>"
      ],
      "text/plain": [
       "   nota1  nota2  frutas\n",
       "0     10      2    uvas\n",
       "1      3      8  banana\n",
       "2      7      5     uva\n",
       "3      5      6    kiwi\n",
       "4      7      9    kiwi\n",
       "5      8      8     uva\n",
       "6      3      6    kiwi"
      ]
     },
     "metadata": {},
     "output_type": "display_data"
    },
    {
     "name": "stdout",
     "output_type": "stream",
     "text": [
      "   nota1  nota2 frutas\n",
      "0      3      6   kiwi\n",
      "1      7      8    NaN\n",
      "\n",
      " 0    kiwi\n",
      "Name: frutas, dtype: object\n"
     ]
    }
   ],
   "source": [
    "#calculando moda com pandas DataFrame, mostra valores multimodais\n",
    "df=pd.DataFrame(columns=['nota1'],data=notas)\n",
    "df['nota2']=[2,8,5,6,9,8,6]\n",
    "df['frutas']=frutas\n",
    "display(df)\n",
    "\n",
    "#calcula a moda de todas as colunas do dataframe\n",
    "print(df.mode())\n",
    "\n",
    "#somente da coluna frutas\n",
    "print('\\n',df.frutas.mode())"
   ]
  },
  {
   "cell_type": "markdown",
   "id": "019d63bd",
   "metadata": {},
   "source": [
    "### Relaçao entre media mediana e moda"
   ]
  },
  {
   "cell_type": "markdown",
   "id": "5e9b6835",
   "metadata": {},
   "source": [
    "#### Determina a distribuiçao dos dados,que podemos ver atravez de um grafico tipo histograma\n",
    "#### - Assimetrica a esquerda: tem uma 'força' puxando para a esquerda\n",
    "#### - Assimetrica a direita: tem uma 'força' puxando para a direita"
   ]
  },
  {
   "cell_type": "code",
   "execution_count": 14,
   "id": "5ccb0a7e",
   "metadata": {},
   "outputs": [],
   "source": [
    "import numpy as np\n",
    "import pandas as pd\n",
    "import seaborn as sns\n",
    "import statistics as st\n",
    "import matplotlib.pyplot as plt"
   ]
  },
  {
   "cell_type": "code",
   "execution_count": 15,
   "id": "f095946f",
   "metadata": {},
   "outputs": [
    {
     "data": {
      "text/html": [
       "<div>\n",
       "<style scoped>\n",
       "    .dataframe tbody tr th:only-of-type {\n",
       "        vertical-align: middle;\n",
       "    }\n",
       "\n",
       "    .dataframe tbody tr th {\n",
       "        vertical-align: top;\n",
       "    }\n",
       "\n",
       "    .dataframe thead th {\n",
       "        text-align: right;\n",
       "    }\n",
       "</style>\n",
       "<table border=\"1\" class=\"dataframe\">\n",
       "  <thead>\n",
       "    <tr style=\"text-align: right;\">\n",
       "      <th></th>\n",
       "      <th>UF</th>\n",
       "      <th>Sexo</th>\n",
       "      <th>Idade</th>\n",
       "      <th>Cor</th>\n",
       "      <th>Anos de Estudo</th>\n",
       "      <th>Renda</th>\n",
       "      <th>Altura</th>\n",
       "    </tr>\n",
       "  </thead>\n",
       "  <tbody>\n",
       "    <tr>\n",
       "      <th>0</th>\n",
       "      <td>11</td>\n",
       "      <td>0</td>\n",
       "      <td>23</td>\n",
       "      <td>8</td>\n",
       "      <td>12</td>\n",
       "      <td>800</td>\n",
       "      <td>1.603808</td>\n",
       "    </tr>\n",
       "    <tr>\n",
       "      <th>1</th>\n",
       "      <td>11</td>\n",
       "      <td>1</td>\n",
       "      <td>23</td>\n",
       "      <td>2</td>\n",
       "      <td>12</td>\n",
       "      <td>1150</td>\n",
       "      <td>1.739790</td>\n",
       "    </tr>\n",
       "    <tr>\n",
       "      <th>2</th>\n",
       "      <td>11</td>\n",
       "      <td>1</td>\n",
       "      <td>35</td>\n",
       "      <td>8</td>\n",
       "      <td>15</td>\n",
       "      <td>880</td>\n",
       "      <td>1.760444</td>\n",
       "    </tr>\n",
       "    <tr>\n",
       "      <th>3</th>\n",
       "      <td>11</td>\n",
       "      <td>0</td>\n",
       "      <td>46</td>\n",
       "      <td>2</td>\n",
       "      <td>6</td>\n",
       "      <td>3500</td>\n",
       "      <td>1.783158</td>\n",
       "    </tr>\n",
       "    <tr>\n",
       "      <th>4</th>\n",
       "      <td>11</td>\n",
       "      <td>1</td>\n",
       "      <td>47</td>\n",
       "      <td>8</td>\n",
       "      <td>9</td>\n",
       "      <td>150</td>\n",
       "      <td>1.690631</td>\n",
       "    </tr>\n",
       "    <tr>\n",
       "      <th>...</th>\n",
       "      <td>...</td>\n",
       "      <td>...</td>\n",
       "      <td>...</td>\n",
       "      <td>...</td>\n",
       "      <td>...</td>\n",
       "      <td>...</td>\n",
       "      <td>...</td>\n",
       "    </tr>\n",
       "    <tr>\n",
       "      <th>76835</th>\n",
       "      <td>53</td>\n",
       "      <td>1</td>\n",
       "      <td>46</td>\n",
       "      <td>2</td>\n",
       "      <td>11</td>\n",
       "      <td>812</td>\n",
       "      <td>1.687030</td>\n",
       "    </tr>\n",
       "    <tr>\n",
       "      <th>76836</th>\n",
       "      <td>53</td>\n",
       "      <td>0</td>\n",
       "      <td>30</td>\n",
       "      <td>4</td>\n",
       "      <td>7</td>\n",
       "      <td>1500</td>\n",
       "      <td>1.792934</td>\n",
       "    </tr>\n",
       "    <tr>\n",
       "      <th>76837</th>\n",
       "      <td>53</td>\n",
       "      <td>0</td>\n",
       "      <td>32</td>\n",
       "      <td>8</td>\n",
       "      <td>12</td>\n",
       "      <td>1300</td>\n",
       "      <td>1.830587</td>\n",
       "    </tr>\n",
       "    <tr>\n",
       "      <th>76838</th>\n",
       "      <td>53</td>\n",
       "      <td>0</td>\n",
       "      <td>57</td>\n",
       "      <td>8</td>\n",
       "      <td>4</td>\n",
       "      <td>1500</td>\n",
       "      <td>1.726344</td>\n",
       "    </tr>\n",
       "    <tr>\n",
       "      <th>76839</th>\n",
       "      <td>53</td>\n",
       "      <td>0</td>\n",
       "      <td>38</td>\n",
       "      <td>8</td>\n",
       "      <td>4</td>\n",
       "      <td>900</td>\n",
       "      <td>1.658305</td>\n",
       "    </tr>\n",
       "  </tbody>\n",
       "</table>\n",
       "<p>76840 rows × 7 columns</p>\n",
       "</div>"
      ],
      "text/plain": [
       "       UF  Sexo  Idade  Cor  Anos de Estudo  Renda    Altura\n",
       "0      11     0     23    8              12    800  1.603808\n",
       "1      11     1     23    2              12   1150  1.739790\n",
       "2      11     1     35    8              15    880  1.760444\n",
       "3      11     0     46    2               6   3500  1.783158\n",
       "4      11     1     47    8               9    150  1.690631\n",
       "...    ..   ...    ...  ...             ...    ...       ...\n",
       "76835  53     1     46    2              11    812  1.687030\n",
       "76836  53     0     30    4               7   1500  1.792934\n",
       "76837  53     0     32    8              12   1300  1.830587\n",
       "76838  53     0     57    8               4   1500  1.726344\n",
       "76839  53     0     38    8               4    900  1.658305\n",
       "\n",
       "[76840 rows x 7 columns]"
      ]
     },
     "execution_count": 15,
     "metadata": {},
     "output_type": "execute_result"
    }
   ],
   "source": [
    "df=pd.read_csv('https://softgraf.com/cursodatascience/ibge-pesquisa-nacional-por-amostra-de-domicilios-2015.csv')\n",
    "df"
   ]
  },
  {
   "cell_type": "code",
   "execution_count": 16,
   "id": "4a045e0f",
   "metadata": {},
   "outputs": [
    {
     "data": {
      "image/png": "[encoded data removed]",
      "text/plain": [
       "<Figure size 1500x600 with 1 Axes>"
      ]
     },
     "metadata": {},
     "output_type": "display_data"
    }
   ],
   "source": [
    "#verificando o grafico de distribuiçao nde renda com Seaborn\n",
    "#necessario filtrar a renda,pois o grafico gerado sera muito extenso\n",
    "#ax=sns.displot(df.Renda)\n",
    "ax=sns.displot(df.query('Renda>15000').Renda)\n",
    "ax.figure.set_size_inches(15,6)\n",
    "plt.show()\n",
    "\n",
    "#podemos ver nesse grafico uma assimetria a esquerda"
   ]
  },
  {
   "cell_type": "code",
   "execution_count": 23,
   "id": "2f410b84",
   "metadata": {},
   "outputs": [
    {
     "name": "stdout",
     "output_type": "stream",
     "text": [
      "2000.38\n",
      "1200.0\n",
      "788\n",
      "True\n"
     ]
    }
   ],
   "source": [
    "#calculando a media da Renda\n",
    "#o valor retornado corresponda ao salario minimo\n",
    "media=df.Renda.mean()\n",
    "print(round(media,2))\n",
    "\n",
    "#calculando a mediana\n",
    "mediana=df.Renda.median()\n",
    "print(mediana)\n",
    "\n",
    "#calculando a moda\n",
    "#o valor retornado corresponde ao salario minimo\n",
    "moda=df.Renda.mode()[0]\n",
    "print(moda)\n",
    "\n",
    "#podemos ver que a moda é menor que a mediana e a mediana é menor que media\n",
    "#isso caracteriza uma uma assimetria a direita,como pode ser visto no grafico\n",
    "print(moda < mediana < media)"
   ]
  },
  {
   "cell_type": "code",
   "execution_count": 25,
   "id": "46c74aad",
   "metadata": {},
   "outputs": [
    {
     "name": "stdout",
     "output_type": "stream",
     "text": [
      "1.6995124540575812\n",
      "1.6993247325\n"
     ]
    }
   ],
   "source": [
    "#Verificando o grafico de distribuiçao da Altura comk Seaborn\n",
    "\n",
    "#calculando a media da Altura\n",
    "media=df.Altura.mean()\n",
    "print(media)\n",
    "\n",
    "#calculando a mediana\n",
    "mediana=df.Altura.median()\n",
    "print(mediana)"
   ]
  },
  {
   "cell_type": "code",
   "execution_count": 27,
   "id": "ccbc832e",
   "metadata": {},
   "outputs": [
    {
     "name": "stdout",
     "output_type": "stream",
     "text": [
      "\n",
      " 0    1.568128\n",
      "1    1.671225\n",
      "2    1.681659\n",
      "3    1.692977\n",
      "4    1.708163\n",
      "5    1.708370\n",
      "6    1.753842\n",
      "7    1.779073\n",
      "8    1.796462\n",
      "Name: Altura, dtype: float64\n"
     ]
    }
   ],
   "source": [
    "#Calculando a moda\n",
    "moda=df.Altura.mode()\n",
    "#podemos ver que a altura é multimodal\n",
    "print('\\n',moda)"
   ]
  },
  {
   "cell_type": "code",
   "execution_count": 29,
   "id": "fe962f3c",
   "metadata": {},
   "outputs": [
    {
     "data": {
      "image/png": "[encoded data removed]",
      "text/plain": [
       "<Figure size 1200x500 with 1 Axes>"
      ]
     },
     "metadata": {},
     "output_type": "display_data"
    }
   ],
   "source": [
    "#podemos observar que os valores das 3 variaveis sao proximas,\n",
    "#assim teremos um grafico simetrico\n",
    "\n",
    "ax=sns.displot(df.Altura)\n",
    "ax.figure.set_size_inches(12,5)\n",
    "plt.show()"
   ]
  },
  {
   "cell_type": "markdown",
   "id": "8e0b0217",
   "metadata": {},
   "source": [
    "### Medidas Separatrizes"
   ]
  },
  {
   "cell_type": "code",
   "execution_count": 34,
   "id": "9b972cc4",
   "metadata": {},
   "outputs": [
    {
     "name": "stdout",
     "output_type": "stream",
     "text": [
      "1200.0\n",
      "0.25     788.0\n",
      "0.50    1200.0\n",
      "0.75    2000.0\n",
      "Name: Renda, dtype: float64\n"
     ]
    }
   ],
   "source": [
    "df=pd.read_csv('https://softgraf.com/cursodatascience/ibge-pesquisa-nacional-por-amostra-de-domicilios-2015.csv')\n",
    "df\n",
    "\n",
    "#retorna a mediana\n",
    "m=df.Renda.quantile(q=0.5)\n",
    "print(m)\n",
    "\n",
    "#calcula os quartis\n",
    "q=df.Renda.quantile([0.25,0.5,0.75])\n",
    "print(q)"
   ]
  },
  {
   "cell_type": "markdown",
   "id": "6f244471",
   "metadata": {},
   "source": [
    "### Boxplot"
   ]
  },
  {
   "cell_type": "code",
   "execution_count": 37,
   "id": "d2ee7e3e",
   "metadata": {},
   "outputs": [
    {
     "name": "stdout",
     "output_type": "stream",
     "text": [
      "Primeiro quartil: 21.0\n",
      "Segundo quartil: 22.0\n",
      "Terceiro quartil: 23.0\n",
      "Minimo: 18.0\n",
      "Maximo: 26.0\n"
     ]
    },
    {
     "data": {
      "image/png": "[encoded data removed]",
      "text/plain": [
       "<Figure size 800x400 with 1 Axes>"
      ]
     },
     "metadata": {},
     "output_type": "display_data"
    }
   ],
   "source": [
    "#Calculando o boxplot\n",
    "idades=21,22,24,18,19,27,22,22,23,21,23,21\n",
    "serie=pd.Series(idades)\n",
    "quartis=serie.quantile([0.25,0.5,0.75])\n",
    "\n",
    "q1=quartis[0.25]\n",
    "print('Primeiro quartil:',q1)\n",
    "\n",
    "q2=quartis[0.5]\n",
    "print('Segundo quartil:',q2)\n",
    "\n",
    "q3=quartis[0.75]\n",
    "print('Terceiro quartil:',q3)\n",
    "\n",
    "minimo=q1-1.5*(q3-q1)\n",
    "print('Minimo:',minimo)\n",
    "\n",
    "maximo=q3+1.5*(q3-q1)\n",
    "print('Maximo:',maximo)\n",
    "\n",
    "#exibindo grafico\n",
    "ax=sns.boxplot(x=serie,color='gray')\n",
    "ax.figure.set_size_inches(8,4)\n",
    "plt.show()"
   ]
  },
  {
   "cell_type": "code",
   "execution_count": null,
   "id": "3380b0fe",
   "metadata": {},
   "outputs": [],
   "source": []
  }
 ],
 "metadata": {
  "kernelspec": {
   "display_name": "Python 3 (ipykernel)",
   "language": "python",
   "name": "python3"
  },
  "language_info": {
   "codemirror_mode": {
    "name": "ipython",
    "version": 3
   },
   "file_extension": ".py",
   "mimetype": "text/x-python",
   "name": "python",
   "nbconvert_exporter": "python",
   "pygments_lexer": "ipython3",
   "version": "3.9.13"
  }
 },
 "nbformat": 4,
 "nbformat_minor": 5
}
