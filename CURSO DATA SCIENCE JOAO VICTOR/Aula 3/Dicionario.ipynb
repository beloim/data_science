{
 "cells": [
  {
   "cell_type": "markdown",
   "id": "4e18b292",
   "metadata": {},
   "source": [
    "# DICIONARIO DE DADOS\n",
    "### Dicionario sao conjuntos formados por chave:valor(key:value)\n",
    "### A chave tambem pode ser chamada de rotulo e pode ser string ou numerica\n",
    "### O valor pode ser sting, numerico ou uma lista,assim um conjunto sera formado\n",
    "### de listas com rotulos\n",
    "### ex:(chave1: valor1,chave2:valor2)\n",
    "### {['codigo':[1,2,3],'nome':['joao','ze','maria']}"
   ]
  },
  {
   "cell_type": "code",
   "execution_count": null,
   "id": "14218346",
   "metadata": {},
   "outputs": [],
   "source": []
  }
 ],
 "metadata": {
  "kernelspec": {
   "display_name": "Python 3 (ipykernel)",
   "language": "python",
   "name": "python3"
  },
  "language_info": {
   "codemirror_mode": {
    "name": "ipython",
    "version": 3
   },
   "file_extension": ".py",
   "mimetype": "text/x-python",
   "name": "python",
   "nbconvert_exporter": "python",
   "pygments_lexer": "ipython3",
   "version": "3.9.13"
  }
 },
 "nbformat": 4,
 "nbformat_minor": 5
}
