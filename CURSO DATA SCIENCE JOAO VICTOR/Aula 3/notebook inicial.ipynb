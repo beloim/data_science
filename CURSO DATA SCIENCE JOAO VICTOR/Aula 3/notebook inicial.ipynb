{
 "cells": [
  {
   "cell_type": "code",
   "execution_count": 4,
   "id": "2b23602c",
   "metadata": {},
   "outputs": [
    {
     "name": "stdout",
     "output_type": "stream",
     "text": [
      "Python 3.9.13\n",
      "Python 3.9.13\n"
     ]
    }
   ],
   "source": [
    "!python --version\n",
    "!python -V"
   ]
  },
  {
   "cell_type": "code",
   "execution_count": 11,
   "id": "4a3c5e17",
   "metadata": {},
   "outputs": [
    {
     "name": "stdout",
     "output_type": "stream",
     "text": [
      "\n",
      "primeira linha\n",
      "segunda linha\n"
     ]
    },
    {
     "data": {
      "text/plain": [
       "'\\nprimeira linha\\nsegunda linha'"
      ]
     },
     "metadata": {},
     "output_type": "display_data"
    }
   ],
   "source": [
    "print('\\nprimeira linha''\\nsegunda linha')\n",
    "display('\\nprimeira linha''\\nsegunda linha')"
   ]
  },
  {
   "cell_type": "code",
   "execution_count": null,
   "id": "2bcc83a9",
   "metadata": {},
   "outputs": [],
   "source": [
    "2*5\n",
    "\n",
    "_+1"
   ]
  },
  {
   "cell_type": "code",
   "execution_count": 13,
   "id": "44112f41",
   "metadata": {
    "scrolled": false
   },
   "outputs": [
    {
     "data": {
      "text/plain": [
       "11"
      ]
     },
     "execution_count": 13,
     "metadata": {},
     "output_type": "execute_result"
    }
   ],
   "source": []
  },
  {
   "cell_type": "markdown",
   "id": "4cebfeda",
   "metadata": {},
   "source": [
    "# cabeçalho"
   ]
  },
  {
   "cell_type": "code",
   "execution_count": null,
   "id": "6812b3a0",
   "metadata": {
    "collapsed": true
   },
   "outputs": [],
   "source": [
    "# cabeçalho"
   ]
  },
  {
   "cell_type": "markdown",
   "id": "5a95a3cc",
   "metadata": {},
   "source": [
    "texto simples\n",
    "*texto em italico*\n",
    "**texto em negrito**\n",
    "***text com italico***\n",
    "tambem funciona igal usando underline__negrito__\n",
    "dessa forma **_tambe funciona_**"
   ]
  },
  {
   "cell_type": "markdown",
   "id": "406d5f0d",
   "metadata": {},
   "source": [
    "## listas\n",
    "* item 1\n",
    "* item 2\n",
    "* item 3\n",
    "+ item 1\n",
    "+ item 2\n",
    "+ item 3\n",
    "\n",
    "0. item\n",
    "0. item \n",
    "0. item\n",
    "\n",
    "1. primeiro\n",
    "2. segundo\n",
    "3. terceiro\n",
    "   1. recuado\n",
    "   2. recuado\n",
    "4. quarto\n"
   ]
  },
  {
   "cell_type": "markdown",
   "id": "3368c45e",
   "metadata": {},
   "source": [
    "### para mostrar o codigo usar recuo de 8 espaços e 2 tabulaçoes\n",
    "inicio do codigo\n",
    "    <html>\n",
    "    <head>\n",
    "        <title>titulo da pagina</title>\n",
    "        </head>\n",
    "    </html>\n",
    "    final do codigo"
   ]
  },
  {
   "cell_type": "markdown",
   "id": "5fb8c062",
   "metadata": {},
   "source": [
    ">este texto ficara envolto pelo elemento HTML bloquote\n",
    ">>este fica aninhado"
   ]
  },
  {
   "cell_type": "markdown",
   "id": "eaca6540",
   "metadata": {},
   "source": [
    "### crase para exibir codigo\n",
    "`print(codigo entre crases)`"
   ]
  },
  {
   "cell_type": "markdown",
   "id": "0167e4ae",
   "metadata": {},
   "source": [
    "### linhas horizontais\n",
    "...\n"
   ]
  },
  {
   "cell_type": "markdown",
   "id": "6d563d3d",
   "metadata": {},
   "source": [
    "### link\n",
    "[texto do link](https://www.softgraf.com/)"
   ]
  },
  {
   "cell_type": "markdown",
   "id": "965ab25e",
   "metadata": {},
   "source": [
    "### url\n",
    "<https://www.softgraf.com/>"
   ]
  },
  {
   "cell_type": "markdown",
   "id": "9baaf512",
   "metadata": {},
   "source": [
    "### imagem\n",
    "![](http://www.softgraf.com/icones/logo_softgraf.png)"
   ]
  },
  {
   "cell_type": "code",
   "execution_count": null,
   "id": "36118f23",
   "metadata": {},
   "outputs": [],
   "source": [
    "#importando imagem em codigo python\n",
    "from IPython.display import image\n",
    "image * Image('http://www.softgraf.com/icones/logo_softgraf.png')\n",
    "dysplay(image)"
   ]
  },
  {
   "cell_type": "markdown",
   "id": "781ab0bc",
   "metadata": {},
   "source": [
    "### usando HTML no modo Maekdown\n",
    "<font color='red'> texto vermelho</font>\n",
    "<font color='blue'> texto azul</font>\n",
    "\n",
    "<h1>altura html1</h1>\n",
    "\n",
    "<table>\n",
    "    <tr>coluna</tr>"
   ]
  },
  {
   "cell_type": "code",
   "execution_count": null,
   "id": "43f43ea4",
   "metadata": {},
   "outputs": [],
   "source": [
    "%run \"D:\\CURSO DATA SCIENCE JOAO VICTOR\\Aula 3\\aula 3.py\"\n"
   ]
  },
  {
   "cell_type": "code",
   "execution_count": 9,
   "id": "40f831be",
   "metadata": {},
   "outputs": [
    {
     "name": "stdout",
     "output_type": "stream",
     "text": [
      "Wall time: 141 ms\n"
     ]
    }
   ],
   "source": [
    "%%time\n",
    "import random\n",
    "for i in range(1000000):\n",
    "    random.random()"
   ]
  },
  {
   "cell_type": "code",
   "execution_count": 16,
   "id": "de59e6b5",
   "metadata": {},
   "outputs": [
    {
     "name": "stdout",
     "output_type": "stream",
     "text": [
      "a\t b\t i\t nome\t pi\t random\t \n",
      "pi\t \n",
      "nome\t \n"
     ]
    }
   ],
   "source": [
    "a, b, pi,nome = 1, 2, 3.14, 'se'\n",
    "%who\n",
    "%who float\n",
    "%who str"
   ]
  },
  {
   "cell_type": "code",
   "execution_count": 17,
   "id": "95e9be12",
   "metadata": {},
   "outputs": [
    {
     "name": "stderr",
     "output_type": "stream",
     "text": [
      "UsageError: Line magic function `%pinto` not found.\n"
     ]
    }
   ],
   "source": [
    "#rastreio de variavel\n",
    "%pinton pi"
   ]
  },
  {
   "cell_type": "code",
   "execution_count": 18,
   "id": "394017b2",
   "metadata": {},
   "outputs": [
    {
     "data": {
      "text/plain": [
       "'C:\\\\Users\\\\Aluno 304\\\\anaconda3;C:\\\\Users\\\\Aluno 304\\\\anaconda3\\\\Library\\\\mingw-w64\\\\bin;C:\\\\Users\\\\Aluno 304\\\\anaconda3\\\\Library\\\\usr\\\\bin;C:\\\\Users\\\\Aluno 304\\\\anaconda3\\\\Library\\\\bin;C:\\\\Users\\\\Aluno 304\\\\anaconda3\\\\Scripts;C:\\\\Users\\\\Aluno 304\\\\anaconda3\\\\bin;C:\\\\Users\\\\Aluno 304\\\\anaconda3\\\\condabin;C:\\\\Program Files\\\\Common Files\\\\Oracle\\\\Java\\\\javapath;C:\\\\Program Files (x86)\\\\Common Files\\\\Intel\\\\Shared Libraries\\\\redist\\\\intel64_win\\\\compiler;C:\\\\Program Files (x86)\\\\NVIDIA Corporation\\\\PhysX\\\\Common;C:\\\\Program Files (x86)\\\\Common Files\\\\Intel\\\\Shared Libraries\\\\redist\\\\intel64\\\\compiler;C:\\\\WINDOWS\\\\system32;C:\\\\WINDOWS;C:\\\\WINDOWS\\\\System32\\\\Wbem;C:\\\\WINDOWS\\\\System32\\\\WindowsPowerShell\\\\v1.0;C:\\\\WINDOWS\\\\System32\\\\OpenSSH;C:\\\\Program Files (x86)\\\\QuickTime\\\\QTSystem;C:\\\\Program Files\\\\Microsoft SQL Server\\\\120\\\\Tools\\\\Binn;C:\\\\Program Files\\\\Common Files\\\\Autodesk Shared;C:\\\\Program Files\\\\Microsoft SQL Server\\\\Client SDK\\\\ODBC\\\\110\\\\Tools\\\\Binn;C:\\\\Program Files (x86)\\\\Microsoft SQL Server\\\\120\\\\Tools\\\\Binn;C:\\\\Program Files\\\\Microsoft SQL Server\\\\120\\\\DTS\\\\Binn;C:\\\\Program Files (x86)\\\\Windows Kits\\\\8.1\\\\Windows Performance Toolkit;C:\\\\Program Files (x86)\\\\Bitvise SSH Client;C:\\\\Program Files\\\\dotnet;C:\\\\xampp\\\\php;C:\\\\ProgramData\\\\ComposerSetup\\\\bin;C:\\\\Program Files\\\\nodejs;C:\\\\Program Files\\\\Git\\\\cmd;C:\\\\Program Files\\\\Docker\\\\Docker\\\\resources\\\\bin;C:\\\\ProgramData\\\\DockerDesktop\\\\version-bin;C:\\\\Users\\\\Aluno 304\\\\AppData\\\\Local\\\\Programs\\\\Python\\\\Python310\\\\Scripts;C:\\\\Users\\\\Aluno 304\\\\AppData\\\\Local\\\\Programs\\\\Python\\\\Python310;C:\\\\Users\\\\Aluno 304\\\\AppData\\\\Local\\\\Programs\\\\Python\\\\Python311\\\\Scripts;C:\\\\Users\\\\Aluno 304\\\\AppData\\\\Local\\\\Programs\\\\Python\\\\Python311;C:\\\\Users\\\\Aluno 304\\\\AppData\\\\Local\\\\Microsoft\\\\WindowsApps;.;C:\\\\Users\\\\Aluno 304\\\\AppData\\\\Local\\\\Programs\\\\Microsoft VS Code\\\\bin;C:\\\\Users\\\\Aluno 304\\\\AppData\\\\Roaming\\\\Composer\\\\vendor\\\\bin;C:\\\\Users\\\\Aluno 304\\\\AppData\\\\Roaming\\\\npm'"
      ]
     },
     "execution_count": 18,
     "metadata": {},
     "output_type": "execute_result"
    }
   ],
   "source": [
    "%env\n",
    "%env path"
   ]
  },
  {
   "cell_type": "code",
   "execution_count": null,
   "id": "691175a8",
   "metadata": {},
   "outputs": [],
   "source": [
    "#permite mostrar grafico em versoes antigas do jupyter para o lib matplotlib\n"
   ]
  },
  {
   "cell_type": "code",
   "execution_count": 2,
   "id": "9bdc7400",
   "metadata": {},
   "outputs": [
    {
     "data": {
      "text/plain": [
       "['Accordion',\n",
       " 'AppLayout',\n",
       " 'Audio',\n",
       " 'BoundedFloatText',\n",
       " 'BoundedIntText',\n",
       " 'Box',\n",
       " 'Button',\n",
       " 'ButtonStyle',\n",
       " 'CallbackDispatcher',\n",
       " 'Checkbox',\n",
       " 'Color',\n",
       " 'ColorPicker',\n",
       " 'Combobox',\n",
       " 'Controller',\n",
       " 'CoreWidget',\n",
       " 'DOMWidget',\n",
       " 'DatePicker',\n",
       " 'Datetime',\n",
       " 'Dropdown',\n",
       " 'FileUpload',\n",
       " 'FloatLogSlider',\n",
       " 'FloatProgress',\n",
       " 'FloatRangeSlider',\n",
       " 'FloatSlider',\n",
       " 'FloatText',\n",
       " 'GridBox',\n",
       " 'GridspecLayout',\n",
       " 'HBox',\n",
       " 'HTML',\n",
       " 'HTMLMath',\n",
       " 'Image',\n",
       " 'IntProgress',\n",
       " 'IntRangeSlider',\n",
       " 'IntSlider',\n",
       " 'IntText',\n",
       " 'Label',\n",
       " 'Layout',\n",
       " 'NumberFormat',\n",
       " 'Output',\n",
       " 'Password',\n",
       " 'Play',\n",
       " 'RadioButtons',\n",
       " 'Select',\n",
       " 'SelectMultiple',\n",
       " 'SelectionRangeSlider',\n",
       " 'SelectionSlider',\n",
       " 'SliderStyle',\n",
       " 'Style',\n",
       " 'Tab',\n",
       " 'Text',\n",
       " 'Textarea',\n",
       " 'ToggleButton',\n",
       " 'ToggleButtons',\n",
       " 'ToggleButtonsStyle',\n",
       " 'TwoByTwoLayout',\n",
       " 'VBox',\n",
       " 'Valid',\n",
       " 'ValueWidget',\n",
       " 'Video',\n",
       " 'Widget',\n",
       " '__builtins__',\n",
       " '__cached__',\n",
       " '__doc__',\n",
       " '__file__',\n",
       " '__jupyter_widgets_base_version__',\n",
       " '__jupyter_widgets_controls_version__',\n",
       " '__loader__',\n",
       " '__name__',\n",
       " '__package__',\n",
       " '__path__',\n",
       " '__protocol_version__',\n",
       " '__spec__',\n",
       " '__version__',\n",
       " '_handle_ipython',\n",
       " '_version',\n",
       " 'dlink',\n",
       " 'docutils',\n",
       " 'domwidget',\n",
       " 'fixed',\n",
       " 'get_ipython',\n",
       " 'handle_kernel',\n",
       " 'interact',\n",
       " 'interact_manual',\n",
       " 'interaction',\n",
       " 'interactive',\n",
       " 'interactive_output',\n",
       " 'jsdlink',\n",
       " 'jslink',\n",
       " 'link',\n",
       " 'load_ipython_extension',\n",
       " 'os',\n",
       " 'register',\n",
       " 'register_comm_target',\n",
       " 'trait_types',\n",
       " 'util',\n",
       " 'valuewidget',\n",
       " 'version_info',\n",
       " 'widget',\n",
       " 'widget_bool',\n",
       " 'widget_box',\n",
       " 'widget_button',\n",
       " 'widget_color',\n",
       " 'widget_controller',\n",
       " 'widget_core',\n",
       " 'widget_date',\n",
       " 'widget_description',\n",
       " 'widget_float',\n",
       " 'widget_int',\n",
       " 'widget_layout',\n",
       " 'widget_link',\n",
       " 'widget_media',\n",
       " 'widget_output',\n",
       " 'widget_selection',\n",
       " 'widget_selectioncontainer',\n",
       " 'widget_serialization',\n",
       " 'widget_string',\n",
       " 'widget_style',\n",
       " 'widget_templates',\n",
       " 'widget_upload',\n",
       " 'widgets']"
      ]
     },
     "execution_count": 2,
     "metadata": {},
     "output_type": "execute_result"
    }
   ],
   "source": [
    "#widgets componentes de interface\n",
    "import ipywidgets as widgets\n",
    "dir(widgets)\n"
   ]
  },
  {
   "cell_type": "code",
   "execution_count": 5,
   "id": "7c5bfaf2",
   "metadata": {},
   "outputs": [
    {
     "data": {
      "application/vnd.jupyter.widget-view+json": {
       "model_id": "478743fc6c9346c18d01b58a77a7e839",
       "version_major": 2,
       "version_minor": 0
      },
      "text/plain": [
       "IntSlider(value=0)"
      ]
     },
     "metadata": {},
     "output_type": "display_data"
    }
   ],
   "source": [
    "import ipywidgets as widgets\n",
    "widgets.IntSlider()"
   ]
  },
  {
   "cell_type": "code",
   "execution_count": 9,
   "id": "20499d0d",
   "metadata": {},
   "outputs": [
    {
     "data": {
      "application/vnd.jupyter.widget-view+json": {
       "model_id": "1c8053dd456b4deba51c3585a1076874",
       "version_major": 2,
       "version_minor": 0
      },
      "text/plain": [
       "Button(description='Pressione', style=ButtonStyle())"
      ]
     },
     "metadata": {},
     "output_type": "display_data"
    }
   ],
   "source": [
    "from IPython.display import display\n",
    "btn = widgets.Button(description='Pressione')\n",
    "display(btn)"
   ]
  }
 ],
 "metadata": {
  "kernelspec": {
   "display_name": "Python 3 (ipykernel)",
   "language": "python",
   "name": "python3"
  },
  "language_info": {
   "codemirror_mode": {
    "name": "ipython",
    "version": 3
   },
   "file_extension": ".py",
   "mimetype": "text/x-python",
   "name": "python",
   "nbconvert_exporter": "python",
   "pygments_lexer": "ipython3",
   "version": "3.9.13"
  }
 },
 "nbformat": 4,
 "nbformat_minor": 5
}
