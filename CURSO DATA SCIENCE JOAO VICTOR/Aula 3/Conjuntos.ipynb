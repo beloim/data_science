{
 "cells": [
  {
   "cell_type": "markdown",
   "id": "1cd6b6ec",
   "metadata": {},
   "source": [
    "#### um conjunto é uma coleção desordenada de elementos, sem repetição"
   ]
  },
  {
   "cell_type": "code",
   "execution_count": 2,
   "id": "39ba27d0",
   "metadata": {},
   "outputs": [
    {
     "data": {
      "text/plain": [
       "{'banana', 'laranja', 'uva'}"
      ]
     },
     "metadata": {},
     "output_type": "display_data"
    },
    {
     "data": {
      "text/plain": [
       "{'banana', 'kiwi', 'laranja', 'uva'}"
      ]
     },
     "metadata": {},
     "output_type": "display_data"
    },
    {
     "data": {
      "text/plain": [
       "{'kiwi', 'laranja', 'uva'}"
      ]
     },
     "metadata": {},
     "output_type": "display_data"
    },
    {
     "name": "stdout",
     "output_type": "stream",
     "text": [
      "3\n"
     ]
    }
   ],
   "source": [
    "frutas = {'uva','laranja','uva','banana','uva','banana'}\n",
    "display(frutas)\n",
    "frutas.add('kiwi')\n",
    "display(frutas)\n",
    "frutas.remove('banana')\n",
    "display(frutas)\n",
    "print(len(frutas))\n"
   ]
  },
  {
   "cell_type": "code",
   "execution_count": 3,
   "id": "e186f671",
   "metadata": {},
   "outputs": [
    {
     "name": "stdout",
     "output_type": "stream",
     "text": [
      "True\n",
      "True\n"
     ]
    }
   ],
   "source": [
    "#existe uva em frutas?\n",
    "print('uva'in frutas)\n",
    "\n",
    "#não exixte banana em frutas?\n",
    "print('banana'not in frutas)"
   ]
  },
  {
   "cell_type": "code",
   "execution_count": 4,
   "id": "35ed092e",
   "metadata": {},
   "outputs": [
    {
     "name": "stdout",
     "output_type": "stream",
     "text": [
      "kiwi\n",
      "laranja\n",
      "uva\n"
     ]
    }
   ],
   "source": [
    "#percorrendo o conjunto\n",
    "for f in frutas:\n",
    "    print(f)"
   ]
  },
  {
   "cell_type": "code",
   "execution_count": 5,
   "id": "dbd798ed",
   "metadata": {},
   "outputs": [
    {
     "name": "stdout",
     "output_type": "stream",
     "text": [
      "['kiwi', 'laranja', 'uva']\n",
      "('kiwi', 'laranja', 'uva')\n"
     ]
    }
   ],
   "source": [
    "#converte conjunto para lista\n",
    "print(list(frutas))\n",
    "#conjunto para tupla\n",
    "print(tuple(frutas))"
   ]
  },
  {
   "cell_type": "code",
   "execution_count": 7,
   "id": "4ca67df4",
   "metadata": {},
   "outputs": [
    {
     "name": "stdout",
     "output_type": "stream",
     "text": [
      "{'b', 'r', 'd', 'a', 'c'}\n",
      "{'m', 'c', 'z', 'a', 'l'}\n"
     ]
    }
   ],
   "source": [
    "#criando um conjunto a partir de um construtor\n",
    "a=set('abracadabra')\n",
    "print(a)\n",
    "b=set('alacazam')\n",
    "print(b)"
   ]
  },
  {
   "cell_type": "code",
   "execution_count": 10,
   "id": "d7e88f31",
   "metadata": {},
   "outputs": [
    {
     "name": "stdout",
     "output_type": "stream",
     "text": [
      "rdr"
     ]
    }
   ],
   "source": [
    "#mostra caracteres nao contidos em 'abc' usando for\n",
    "for x in 'abracadabra':\n",
    "    if x not in 'abc':\n",
    "        print(x,end='')"
   ]
  },
  {
   "cell_type": "code",
   "execution_count": 12,
   "id": "3728334f",
   "metadata": {},
   "outputs": [
    {
     "name": "stdout",
     "output_type": "stream",
     "text": [
      "['r', 'd', 'r']\n"
     ]
    }
   ],
   "source": [
    "#mostra caracteres não contidos em 'abc' usando list comprehension\n",
    "c=[x for x in 'abracadabra' if x not in 'abc']\n",
    "print(c)"
   ]
  },
  {
   "cell_type": "code",
   "execution_count": 13,
   "id": "26a76609",
   "metadata": {},
   "outputs": [
    {
     "name": "stdout",
     "output_type": "stream",
     "text": [
      "{'r', 'd'}\n"
     ]
    }
   ],
   "source": [
    "#mostra caracteres não contidos em 'abc' usando set comprehension\n",
    "c={x for x in 'abracadabra' if x not in 'abc'}\n",
    "print(c)"
   ]
  },
  {
   "cell_type": "code",
   "execution_count": 16,
   "id": "8611d4df",
   "metadata": {},
   "outputs": [
    {
     "data": {
      "text/plain": [
       "dict"
      ]
     },
     "execution_count": 16,
     "metadata": {},
     "output_type": "execute_result"
    }
   ],
   "source": [
    "#cria um conjunto vazio\n",
    "x={}\n",
    "type(x)"
   ]
  },
  {
   "cell_type": "code",
   "execution_count": 19,
   "id": "a83ed1b0",
   "metadata": {},
   "outputs": [
    {
     "name": "stdout",
     "output_type": "stream",
     "text": [
      "{1, 2, 3}\n",
      "{1, 2, 3}\n"
     ]
    }
   ],
   "source": [
    "#converte lista em conjunto\n",
    "numeros=[1,2,2,3,3]\n",
    "print(set(numeros))\n",
    "\n",
    "#operações entre conjuntos\n",
    "conj_num= set()\n",
    "for x in numeros:\n",
    "    conj_num.add(x)\n",
    "print(conj_num)\n",
    "\n",
    "conj_num.remove(2) #remove o valor 2\n",
    "#conj_num.remove(4) #erro elemento não existe\n",
    "conj_num.discard(4) #remove caso exista"
   ]
  },
  {
   "cell_type": "code",
   "execution_count": 21,
   "id": "f1061869",
   "metadata": {},
   "outputs": [
    {
     "name": "stdout",
     "output_type": "stream",
     "text": [
      "{0, 1, 2, 3, 4, 5, 6, 7, 8, 9}\n",
      "{0, 1, 2, 3, 4, 5, 6, 7, 8, 9}\n"
     ]
    }
   ],
   "source": [
    "#união de conjuntos\n",
    "A={0,1,3,5,7,9}\n",
    "B={0,2,4,6,8}\n",
    "C=A.union(B)\n",
    "print(C)\n",
    "\n",
    "#modo alternativo\n",
    "D=A|B\n",
    "print(D)"
   ]
  },
  {
   "cell_type": "code",
   "execution_count": 25,
   "id": "49b1a022",
   "metadata": {},
   "outputs": [
    {
     "name": "stdout",
     "output_type": "stream",
     "text": [
      "{0}\n",
      "{0}\n"
     ]
    }
   ],
   "source": [
    "#interseção de conjuntos\n",
    "C=A.intersection(B)\n",
    "print(C)\n",
    "\n",
    "#modo alternativo\n",
    "C=A&B\n",
    "print(C)"
   ]
  },
  {
   "cell_type": "code",
   "execution_count": 27,
   "id": "cb685d4f",
   "metadata": {},
   "outputs": [
    {
     "name": "stdout",
     "output_type": "stream",
     "text": [
      "False\n",
      "True\n"
     ]
    }
   ],
   "source": [
    "#comparaçao de conjuntos\n",
    "cidades1= {'pg','castro'}\n",
    "cidades2={'curitiba','pg','guarapuava','castro'}\n",
    "cidades3={'florianopolis','sao paulo'}\n",
    "print(cidades1==cidades2)\n",
    "print(cidades1!=cidades2)"
   ]
  },
  {
   "cell_type": "code",
   "execution_count": 29,
   "id": "70d14d7e",
   "metadata": {},
   "outputs": [
    {
     "name": "stdout",
     "output_type": "stream",
     "text": [
      "True\n",
      "False\n",
      "True\n",
      "True\n"
     ]
    }
   ],
   "source": [
    "#cidades1 é um subconjunto de cidades2?\n",
    "print(cidades1<cidades2) #True\n",
    "print(cidades1>cidades2) #False\n",
    "\n",
    "#ou invertendo\n",
    "print(cidades2>cidades1) #True\n",
    "#é igual ou é um sub conjunto\n",
    "print(cidades1<=cidades2)\n"
   ]
  },
  {
   "cell_type": "code",
   "execution_count": 33,
   "id": "22aa0d70",
   "metadata": {},
   "outputs": [
    {
     "ename": "SyntaxError",
     "evalue": "invalid syntax (206907644.py, line 2)",
     "output_type": "error",
     "traceback": [
      "\u001b[1;36m  File \u001b[1;32m\"C:\\Users\\Aluno 304\\AppData\\Local\\Temp\\ipykernel_2036\\206907644.py\"\u001b[1;36m, line \u001b[1;32m2\u001b[0m\n\u001b[1;33m    print{cidades1-cidades2}\u001b[0m\n\u001b[1;37m         ^\u001b[0m\n\u001b[1;31mSyntaxError\u001b[0m\u001b[1;31m:\u001b[0m invalid syntax\n"
     ]
    }
   ],
   "source": [
    "#diferença de conjuntos\n",
    "print{cidades1-cidades2}\n",
    "print{cidades1.difference(cidades2)}\n"
   ]
  },
  {
   "cell_type": "markdown",
   "id": "cc1b721b",
   "metadata": {},
   "source": [
    "### Atençao:\n",
    "#### Isto nao é um conjunto,é um dicionario\n"
   ]
  },
  {
   "cell_type": "code",
   "execution_count": 34,
   "id": "a64d454d",
   "metadata": {},
   "outputs": [
    {
     "name": "stdout",
     "output_type": "stream",
     "text": [
      "<class 'dict'>\n"
     ]
    }
   ],
   "source": [
    "x={}\n",
    "print(type(x))"
   ]
  }
 ],
 "metadata": {
  "kernelspec": {
   "display_name": "Python 3 (ipykernel)",
   "language": "python",
   "name": "python3"
  },
  "language_info": {
   "codemirror_mode": {
    "name": "ipython",
    "version": 3
   },
   "file_extension": ".py",
   "mimetype": "text/x-python",
   "name": "python",
   "nbconvert_exporter": "python",
   "pygments_lexer": "ipython3",
   "version": "3.9.13"
  }
 },
 "nbformat": 4,
 "nbformat_minor": 5
}
