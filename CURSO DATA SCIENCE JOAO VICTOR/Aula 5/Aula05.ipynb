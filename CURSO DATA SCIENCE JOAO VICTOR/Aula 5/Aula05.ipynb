{
 "cells": [
  {
   "cell_type": "markdown",
   "id": "4f3032df",
   "metadata": {},
   "source": [
    "### Criação de modulos e funçoes"
   ]
  },
  {
   "cell_type": "code",
   "execution_count": null,
   "id": "bc5a96c0",
   "metadata": {},
   "outputs": [],
   "source": [
    "#define a funçao sem parametros\n",
    "def hello():\n",
    "    print('Hello Word')\n",
    "print('codigo fora de funçao')"
   ]
  },
  {
   "cell_type": "code",
   "execution_count": null,
   "id": "b656edfb",
   "metadata": {},
   "outputs": [],
   "source": [
    "#chama a funçao\n",
    "hello()"
   ]
  },
  {
   "cell_type": "code",
   "execution_count": null,
   "id": "0425cc6f",
   "metadata": {},
   "outputs": [],
   "source": [
    "#funçao com parametro abrigatorio\n",
    "def bomDia(nome):\n",
    "    print('Bom Dia',nome)"
   ]
  },
  {
   "cell_type": "code",
   "execution_count": null,
   "id": "a41425c4",
   "metadata": {},
   "outputs": [],
   "source": [
    "bomDia('João da Silva')"
   ]
  },
  {
   "cell_type": "code",
   "execution_count": null,
   "id": "5d75664f",
   "metadata": {},
   "outputs": [],
   "source": [
    "#funçao com parametro opcional\n",
    "def olafulano(nome='Alberto'):\n",
    "    print('Ola',nome)"
   ]
  },
  {
   "cell_type": "code",
   "execution_count": null,
   "id": "5e38ed6d",
   "metadata": {},
   "outputs": [],
   "source": [
    "#nao passa o parametro opcional\n",
    "olafulano()"
   ]
  },
  {
   "cell_type": "code",
   "execution_count": null,
   "id": "90fe845d",
   "metadata": {},
   "outputs": [],
   "source": [
    "#passa o parametro opcional\n",
    "olafulano('Ana Maria')"
   ]
  },
  {
   "cell_type": "markdown",
   "id": "9037a69d",
   "metadata": {},
   "source": [
    "### importando o modulo com atalho"
   ]
  },
  {
   "cell_type": "code",
   "execution_count": null,
   "id": "25ff9fb5",
   "metadata": {},
   "outputs": [],
   "source": [
    "#normalmente nao precisa estas 2 linhas\n",
    "import sys \n",
    "sys.path.append('..') #caminh atual para importar calculos\n",
    "\n",
    "import calculos as calc\n",
    "\n",
    "c=calc.area_circulo(5)\n",
    "print('Area do Circulo:',c)\n",
    "\n",
    "r=calc.area_retangulo(4,6)\n",
    "print('Area do Retangulo:',r)"
   ]
  },
  {
   "cell_type": "markdown",
   "id": "e5999196",
   "metadata": {},
   "source": [
    "### importanto modulos com funçoes"
   ]
  },
  {
   "cell_type": "code",
   "execution_count": null,
   "id": "40af5fc2",
   "metadata": {},
   "outputs": [],
   "source": [
    "from calculos import area_circulo,area_retangulo\n",
    "\n",
    "c=area_circulo(5)\n",
    "print('Area do Circulo',c)\n",
    "r=area_retangulo(4,6)\n",
    "print('Area do Retangulo',r)"
   ]
  },
  {
   "cell_type": "code",
   "execution_count": null,
   "id": "216be4b8",
   "metadata": {},
   "outputs": [],
   "source": [
    "#comparando com modulos do python\n",
    "\n",
    "#importa com atalho\n",
    "import numpy as np\n",
    "a=np.array([1,2,3])\n",
    "print(a)\n",
    "\n",
    "#importa funçoes\n",
    "from numpy import array\n",
    "a=array([1,2,3])\n",
    "print(a)"
   ]
  },
  {
   "cell_type": "markdown",
   "id": "a3c24897",
   "metadata": {},
   "source": [
    "### Leitura de arquivos de dados:.py,.txt,.csv,.xis"
   ]
  },
  {
   "cell_type": "raw",
   "id": "976176ae",
   "metadata": {},
   "source": [
    "# %load https://softgraf.com/cursodatascience/cores.txt\n",
    "Cor\tValor\n",
    "Vermelh\t1\n",
    "Laranja\t2\n",
    "Amarelo\t3\n",
    "Verde\t4\n",
    "Azul\t5\n",
    "Purpura\t6\n",
    "Cinza\t7\n",
    "Preto\t8\n",
    "Branco\t9"
   ]
  },
  {
   "cell_type": "raw",
   "id": "3df32ee5",
   "metadata": {},
   "source": [
    "# %load https://softgraf.com/cursodatascience/XMLData.xml\n",
    "<MyDataset>\n",
    "    <Record>\n",
    "        <Number>1</Number>\n",
    "        <String>Primeiro</String>\n",
    "        <Boolean>True</Boolean>\n",
    "    </Record>\n",
    "    <Record>\n",
    "        <Number>2</Number>\n",
    "        <String>Segundo</String>\n",
    "        <Boolean>False</Boolean>\n",
    "    </Record>\n",
    "    <Record>\n",
    "        <Number>3</Number>\n",
    "        <String>Terceiro</String>\n",
    "        <Boolean>True</Boolean>\n",
    "    </Record>\n",
    "    <Record>\n",
    "        <Number>4</Number>\n",
    "        <String>Quarto</String>\n",
    "        <Boolean>False</Boolean>\n",
    "    </Record>\n",
    "</MyDataset>"
   ]
  },
  {
   "cell_type": "markdown",
   "id": "c4dc436b",
   "metadata": {},
   "source": [
    "#### Lendo arquivos de texto estruturado"
   ]
  },
  {
   "cell_type": "code",
   "execution_count": null,
   "id": "7cd8d610",
   "metadata": {},
   "outputs": [],
   "source": [
    "with open('cores.txt') as arq:\n",
    "    #read le todo o arquivo de uma unica vez\n",
    "    print ('Conteudo do arquivo:\\n'+arq.read())"
   ]
  },
  {
   "cell_type": "code",
   "execution_count": null,
   "id": "87ac167b",
   "metadata": {},
   "outputs": [],
   "source": [
    "#Arquivos grandes podem nao caber na memoria,entao usamos streaming\n",
    "with open('cores.txt','r')as arq:\n",
    "    for linha in arq:\n",
    "        print(linha,end='')"
   ]
  },
  {
   "cell_type": "code",
   "execution_count": null,
   "id": "0f1e3de2",
   "metadata": {},
   "outputs": [],
   "source": [
    "#idem, porem inclui o numero da linha atravex de enumerate()\n",
    "with open('cores.txt','r')as arq:\n",
    "    for i,linha in enumerate(arq): #(0,'Cor----->Valor')\n",
    "        print(str(i)+'\\t'+linha,end='')"
   ]
  },
  {
   "cell_type": "markdown",
   "id": "da09631e",
   "metadata": {},
   "source": [
    "#### Lendo com pandas um arquivo de texto estruturado"
   ]
  },
  {
   "cell_type": "code",
   "execution_count": null,
   "id": "d058503d",
   "metadata": {},
   "outputs": [],
   "source": [
    "import pandas as pd\n",
    "df=pd.read_table('cores.txt')\n",
    "display(df)\n",
    "\n",
    "#imprime so a coluna cor\n",
    "print(df.Cor)\n",
    "print('\\nLinha 2',df.Cor[2])"
   ]
  },
  {
   "cell_type": "markdown",
   "id": "1e4e9c3b",
   "metadata": {},
   "source": [
    "### Lendo arquivos de texto em csv"
   ]
  },
  {
   "cell_type": "code",
   "execution_count": null,
   "id": "1b2a9d38",
   "metadata": {},
   "outputs": [],
   "source": [
    "import pandas as pd\n",
    "df=pd.read_csv('titanic.csv')\n",
    "display(df)"
   ]
  },
  {
   "cell_type": "code",
   "execution_count": null,
   "id": "0b72eb90",
   "metadata": {},
   "outputs": [],
   "source": [
    "import pandas as pd\n",
    "df=pd.read_csv('titanic.csv')\n",
    "display(df)\n",
    "\n",
    "print('somente coluna age\\n',df['age'])\n",
    "type(df['age']) #isto é uma serie do pandas"
   ]
  },
  {
   "cell_type": "code",
   "execution_count": null,
   "id": "f17d8748",
   "metadata": {},
   "outputs": [],
   "source": [
    "#somente as primeiras 5 linhas\n",
    "df.head() #cabeça"
   ]
  },
  {
   "cell_type": "code",
   "execution_count": null,
   "id": "9e2842eb",
   "metadata": {},
   "outputs": [],
   "source": [
    "#somente as ultimas 5 linhas\n",
    "df.tail() #calda"
   ]
  },
  {
   "cell_type": "code",
   "execution_count": 33,
   "id": "a433d202",
   "metadata": {},
   "outputs": [
    {
     "name": "stdout",
     "output_type": "stream",
     "text": [
      "survived       29.0\n",
      "survived       0.916700006\n",
      "died           2.0\n",
      "died           30.0\n",
      "died           25.0\n",
      "survived       48.0\n",
      "survived       63.0\n",
      "died           39.0\n",
      "survived       53.0\n",
      "died           71.0\n"
     ]
    }
   ],
   "source": [
    "#imprime somente as 10 primeiras linhas das colunas 'survived' e 'age'\n",
    "for i in range(10):\n",
    "    print(f\"{df['survived'][i]:15}{df['age'][i]}\")"
   ]
  },
  {
   "cell_type": "code",
   "execution_count": 35,
   "id": "8f4870fe",
   "metadata": {},
   "outputs": [],
   "source": [
    "#salvando no formato padrao XLSX do Excel\n",
    "df.to_excel('titanic.xlsx',index=False)"
   ]
  },
  {
   "cell_type": "markdown",
   "id": "cdcc7d9c",
   "metadata": {},
   "source": [
    "#### Lendo com pandas um arquivo XLS do Excel"
   ]
  },
  {
   "cell_type": "code",
   "execution_count": 36,
   "id": "c1846cd3",
   "metadata": {},
   "outputs": [
    {
     "data": {
      "text/html": [
       "<div>\n",
       "<style scoped>\n",
       "    .dataframe tbody tr th:only-of-type {\n",
       "        vertical-align: middle;\n",
       "    }\n",
       "\n",
       "    .dataframe tbody tr th {\n",
       "        vertical-align: top;\n",
       "    }\n",
       "\n",
       "    .dataframe thead th {\n",
       "        text-align: right;\n",
       "    }\n",
       "</style>\n",
       "<table border=\"1\" class=\"dataframe\">\n",
       "  <thead>\n",
       "    <tr style=\"text-align: right;\">\n",
       "      <th></th>\n",
       "      <th>Angulo (graus)</th>\n",
       "      <th>Seno</th>\n",
       "      <th>Cosseno</th>\n",
       "      <th>Tangente</th>\n",
       "    </tr>\n",
       "  </thead>\n",
       "  <tbody>\n",
       "    <tr>\n",
       "      <th>0</th>\n",
       "      <td>178.623488</td>\n",
       "      <td>0.024022</td>\n",
       "      <td>-0.999711</td>\n",
       "      <td>-0.024029</td>\n",
       "    </tr>\n",
       "    <tr>\n",
       "      <th>1</th>\n",
       "      <td>348.774851</td>\n",
       "      <td>-0.194665</td>\n",
       "      <td>0.980870</td>\n",
       "      <td>-0.198462</td>\n",
       "    </tr>\n",
       "    <tr>\n",
       "      <th>2</th>\n",
       "      <td>157.083954</td>\n",
       "      <td>0.389382</td>\n",
       "      <td>-0.921076</td>\n",
       "      <td>-0.422747</td>\n",
       "    </tr>\n",
       "    <tr>\n",
       "      <th>3</th>\n",
       "      <td>82.053645</td>\n",
       "      <td>0.990398</td>\n",
       "      <td>0.138246</td>\n",
       "      <td>7.164033</td>\n",
       "    </tr>\n",
       "    <tr>\n",
       "      <th>4</th>\n",
       "      <td>236.123998</td>\n",
       "      <td>-0.830246</td>\n",
       "      <td>-0.557397</td>\n",
       "      <td>1.489504</td>\n",
       "    </tr>\n",
       "    <tr>\n",
       "      <th>...</th>\n",
       "      <td>...</td>\n",
       "      <td>...</td>\n",
       "      <td>...</td>\n",
       "      <td>...</td>\n",
       "    </tr>\n",
       "    <tr>\n",
       "      <th>67</th>\n",
       "      <td>325.889575</td>\n",
       "      <td>-0.560790</td>\n",
       "      <td>0.827958</td>\n",
       "      <td>-0.677316</td>\n",
       "    </tr>\n",
       "    <tr>\n",
       "      <th>68</th>\n",
       "      <td>24.516610</td>\n",
       "      <td>0.414957</td>\n",
       "      <td>0.909841</td>\n",
       "      <td>0.456076</td>\n",
       "    </tr>\n",
       "    <tr>\n",
       "      <th>69</th>\n",
       "      <td>356.281354</td>\n",
       "      <td>-0.064857</td>\n",
       "      <td>0.997895</td>\n",
       "      <td>-0.064994</td>\n",
       "    </tr>\n",
       "    <tr>\n",
       "      <th>70</th>\n",
       "      <td>334.704140</td>\n",
       "      <td>-0.427293</td>\n",
       "      <td>0.904113</td>\n",
       "      <td>-0.472609</td>\n",
       "    </tr>\n",
       "    <tr>\n",
       "      <th>71</th>\n",
       "      <td>280.894480</td>\n",
       "      <td>-0.981977</td>\n",
       "      <td>0.189001</td>\n",
       "      <td>-5.195622</td>\n",
       "    </tr>\n",
       "  </tbody>\n",
       "</table>\n",
       "<p>72 rows × 4 columns</p>\n",
       "</div>"
      ],
      "text/plain": [
       "    Angulo (graus)      Seno   Cosseno  Tangente\n",
       "0       178.623488  0.024022 -0.999711 -0.024029\n",
       "1       348.774851 -0.194665  0.980870 -0.198462\n",
       "2       157.083954  0.389382 -0.921076 -0.422747\n",
       "3        82.053645  0.990398  0.138246  7.164033\n",
       "4       236.123998 -0.830246 -0.557397  1.489504\n",
       "..             ...       ...       ...       ...\n",
       "67      325.889575 -0.560790  0.827958 -0.677316\n",
       "68       24.516610  0.414957  0.909841  0.456076\n",
       "69      356.281354 -0.064857  0.997895 -0.064994\n",
       "70      334.704140 -0.427293  0.904113 -0.472609\n",
       "71      280.894480 -0.981977  0.189001 -5.195622\n",
       "\n",
       "[72 rows x 4 columns]"
      ]
     },
     "metadata": {},
     "output_type": "display_data"
    }
   ],
   "source": [
    "import pandas as pd\n",
    "xls=pd.ExcelFile('Valores.xls')\n",
    "#converte primeira planilha em data frame\n",
    "df=xls.parse('Sheet1')\n",
    "display(df)"
   ]
  },
  {
   "cell_type": "code",
   "execution_count": 37,
   "id": "c6b50476",
   "metadata": {},
   "outputs": [
    {
     "name": "stdout",
     "output_type": "stream",
     "text": [
      "72\n",
      "72\n",
      "72\n"
     ]
    }
   ],
   "source": [
    "#total de linhas do data frame\n",
    "print(len(df))\n",
    "print(len(df.index))\n",
    "print(df.shape[0])"
   ]
  },
  {
   "cell_type": "code",
   "execution_count": 39,
   "id": "1f2fbb5d",
   "metadata": {},
   "outputs": [
    {
     "name": "stdout",
     "output_type": "stream",
     "text": [
      "(72, 4)\n"
     ]
    },
    {
     "data": {
      "text/html": [
       "<div>\n",
       "<style scoped>\n",
       "    .dataframe tbody tr th:only-of-type {\n",
       "        vertical-align: middle;\n",
       "    }\n",
       "\n",
       "    .dataframe tbody tr th {\n",
       "        vertical-align: top;\n",
       "    }\n",
       "\n",
       "    .dataframe thead th {\n",
       "        text-align: right;\n",
       "    }\n",
       "</style>\n",
       "<table border=\"1\" class=\"dataframe\">\n",
       "  <thead>\n",
       "    <tr style=\"text-align: right;\">\n",
       "      <th></th>\n",
       "      <th>Angulo (graus)</th>\n",
       "      <th>Seno</th>\n",
       "      <th>Cosseno</th>\n",
       "      <th>Tangente</th>\n",
       "    </tr>\n",
       "  </thead>\n",
       "  <tbody>\n",
       "    <tr>\n",
       "      <th>0</th>\n",
       "      <td>178.623488</td>\n",
       "      <td>0.024022</td>\n",
       "      <td>-0.999711</td>\n",
       "      <td>-0.024029</td>\n",
       "    </tr>\n",
       "    <tr>\n",
       "      <th>1</th>\n",
       "      <td>348.774851</td>\n",
       "      <td>-0.194665</td>\n",
       "      <td>0.980870</td>\n",
       "      <td>-0.198462</td>\n",
       "    </tr>\n",
       "    <tr>\n",
       "      <th>2</th>\n",
       "      <td>157.083954</td>\n",
       "      <td>0.389382</td>\n",
       "      <td>-0.921076</td>\n",
       "      <td>-0.422747</td>\n",
       "    </tr>\n",
       "    <tr>\n",
       "      <th>3</th>\n",
       "      <td>82.053645</td>\n",
       "      <td>0.990398</td>\n",
       "      <td>0.138246</td>\n",
       "      <td>7.164033</td>\n",
       "    </tr>\n",
       "    <tr>\n",
       "      <th>4</th>\n",
       "      <td>236.123998</td>\n",
       "      <td>-0.830246</td>\n",
       "      <td>-0.557397</td>\n",
       "      <td>1.489504</td>\n",
       "    </tr>\n",
       "    <tr>\n",
       "      <th>5</th>\n",
       "      <td>87.777126</td>\n",
       "      <td>0.999248</td>\n",
       "      <td>0.038787</td>\n",
       "      <td>25.762611</td>\n",
       "    </tr>\n",
       "    <tr>\n",
       "      <th>6</th>\n",
       "      <td>105.786678</td>\n",
       "      <td>0.962281</td>\n",
       "      <td>-0.272057</td>\n",
       "      <td>-3.537064</td>\n",
       "    </tr>\n",
       "    <tr>\n",
       "      <th>7</th>\n",
       "      <td>128.472692</td>\n",
       "      <td>0.782905</td>\n",
       "      <td>-0.622142</td>\n",
       "      <td>-1.258403</td>\n",
       "    </tr>\n",
       "    <tr>\n",
       "      <th>8</th>\n",
       "      <td>353.839015</td>\n",
       "      <td>-0.107322</td>\n",
       "      <td>0.994224</td>\n",
       "      <td>-0.107946</td>\n",
       "    </tr>\n",
       "    <tr>\n",
       "      <th>9</th>\n",
       "      <td>296.236236</td>\n",
       "      <td>-0.896979</td>\n",
       "      <td>0.442073</td>\n",
       "      <td>-2.029028</td>\n",
       "    </tr>\n",
       "  </tbody>\n",
       "</table>\n",
       "</div>"
      ],
      "text/plain": [
       "   Angulo (graus)      Seno   Cosseno   Tangente\n",
       "0      178.623488  0.024022 -0.999711  -0.024029\n",
       "1      348.774851 -0.194665  0.980870  -0.198462\n",
       "2      157.083954  0.389382 -0.921076  -0.422747\n",
       "3       82.053645  0.990398  0.138246   7.164033\n",
       "4      236.123998 -0.830246 -0.557397   1.489504\n",
       "5       87.777126  0.999248  0.038787  25.762611\n",
       "6      105.786678  0.962281 -0.272057  -3.537064\n",
       "7      128.472692  0.782905 -0.622142  -1.258403\n",
       "8      353.839015 -0.107322  0.994224  -0.107946\n",
       "9      296.236236 -0.896979  0.442073  -2.029028"
      ]
     },
     "metadata": {},
     "output_type": "display_data"
    },
    {
     "data": {
      "text/html": [
       "<div>\n",
       "<style scoped>\n",
       "    .dataframe tbody tr th:only-of-type {\n",
       "        vertical-align: middle;\n",
       "    }\n",
       "\n",
       "    .dataframe tbody tr th {\n",
       "        vertical-align: top;\n",
       "    }\n",
       "\n",
       "    .dataframe thead th {\n",
       "        text-align: right;\n",
       "    }\n",
       "</style>\n",
       "<table border=\"1\" class=\"dataframe\">\n",
       "  <thead>\n",
       "    <tr style=\"text-align: right;\">\n",
       "      <th></th>\n",
       "      <th>Angulo (graus)</th>\n",
       "      <th>Seno</th>\n",
       "      <th>Cosseno</th>\n",
       "      <th>Tangente</th>\n",
       "    </tr>\n",
       "  </thead>\n",
       "  <tbody>\n",
       "    <tr>\n",
       "      <th>62</th>\n",
       "      <td>244.882591</td>\n",
       "      <td>-0.905440</td>\n",
       "      <td>-0.424475</td>\n",
       "      <td>2.133084</td>\n",
       "    </tr>\n",
       "    <tr>\n",
       "      <th>63</th>\n",
       "      <td>260.129712</td>\n",
       "      <td>-0.985198</td>\n",
       "      <td>-0.171418</td>\n",
       "      <td>5.747337</td>\n",
       "    </tr>\n",
       "    <tr>\n",
       "      <th>64</th>\n",
       "      <td>17.855883</td>\n",
       "      <td>0.306624</td>\n",
       "      <td>0.951831</td>\n",
       "      <td>0.322141</td>\n",
       "    </tr>\n",
       "    <tr>\n",
       "      <th>65</th>\n",
       "      <td>252.574264</td>\n",
       "      <td>-0.954106</td>\n",
       "      <td>-0.299469</td>\n",
       "      <td>3.185988</td>\n",
       "    </tr>\n",
       "    <tr>\n",
       "      <th>66</th>\n",
       "      <td>129.243781</td>\n",
       "      <td>0.774461</td>\n",
       "      <td>-0.632621</td>\n",
       "      <td>-1.224210</td>\n",
       "    </tr>\n",
       "    <tr>\n",
       "      <th>67</th>\n",
       "      <td>325.889575</td>\n",
       "      <td>-0.560790</td>\n",
       "      <td>0.827958</td>\n",
       "      <td>-0.677316</td>\n",
       "    </tr>\n",
       "    <tr>\n",
       "      <th>68</th>\n",
       "      <td>24.516610</td>\n",
       "      <td>0.414957</td>\n",
       "      <td>0.909841</td>\n",
       "      <td>0.456076</td>\n",
       "    </tr>\n",
       "    <tr>\n",
       "      <th>69</th>\n",
       "      <td>356.281354</td>\n",
       "      <td>-0.064857</td>\n",
       "      <td>0.997895</td>\n",
       "      <td>-0.064994</td>\n",
       "    </tr>\n",
       "    <tr>\n",
       "      <th>70</th>\n",
       "      <td>334.704140</td>\n",
       "      <td>-0.427293</td>\n",
       "      <td>0.904113</td>\n",
       "      <td>-0.472609</td>\n",
       "    </tr>\n",
       "    <tr>\n",
       "      <th>71</th>\n",
       "      <td>280.894480</td>\n",
       "      <td>-0.981977</td>\n",
       "      <td>0.189001</td>\n",
       "      <td>-5.195622</td>\n",
       "    </tr>\n",
       "  </tbody>\n",
       "</table>\n",
       "</div>"
      ],
      "text/plain": [
       "    Angulo (graus)      Seno   Cosseno  Tangente\n",
       "62      244.882591 -0.905440 -0.424475  2.133084\n",
       "63      260.129712 -0.985198 -0.171418  5.747337\n",
       "64       17.855883  0.306624  0.951831  0.322141\n",
       "65      252.574264 -0.954106 -0.299469  3.185988\n",
       "66      129.243781  0.774461 -0.632621 -1.224210\n",
       "67      325.889575 -0.560790  0.827958 -0.677316\n",
       "68       24.516610  0.414957  0.909841  0.456076\n",
       "69      356.281354 -0.064857  0.997895 -0.064994\n",
       "70      334.704140 -0.427293  0.904113 -0.472609\n",
       "71      280.894480 -0.981977  0.189001 -5.195622"
      ]
     },
     "metadata": {},
     "output_type": "display_data"
    },
    {
     "name": "stdout",
     "output_type": "stream",
     "text": [
      "0     0.024022\n",
      "1    -0.194665\n",
      "2     0.389382\n",
      "3     0.990398\n",
      "4    -0.830246\n",
      "        ...   \n",
      "67   -0.560790\n",
      "68    0.414957\n",
      "69   -0.064857\n",
      "70   -0.427293\n",
      "71   -0.981977\n",
      "Name: Seno, Length: 72, dtype: float64\n",
      "0     0.024022\n",
      "1    -0.194665\n",
      "2     0.389382\n",
      "3     0.990398\n",
      "4    -0.830246\n",
      "        ...   \n",
      "67   -0.560790\n",
      "68    0.414957\n",
      "69   -0.064857\n",
      "70   -0.427293\n",
      "71   -0.981977\n",
      "Name: Seno, Length: 72, dtype: float64\n"
     ]
    }
   ],
   "source": [
    "#linhas x colunas\n",
    "print(df.shape)\n",
    "\n",
    "#primeiras 10 linhas\n",
    "display(df[0:10])\n",
    "\n",
    "#ultimas 10 linhas\n",
    "display(df[-10:])\n",
    "\n",
    "#somente a coluna 'Seno'\n",
    "print(df['Seno'])\n",
    "#ou\n",
    "print(df.Seno)"
   ]
  },
  {
   "cell_type": "code",
   "execution_count": 40,
   "id": "e9e0152d",
   "metadata": {},
   "outputs": [],
   "source": [
    "#Salvando no fromato CSV\n",
    "df.to_csv('valores.csv',index=False,sep=';')"
   ]
  },
  {
   "cell_type": "markdown",
   "id": "6ca9872f",
   "metadata": {},
   "source": [
    "#### Lendo um arquivo XML"
   ]
  },
  {
   "cell_type": "code",
   "execution_count": 53,
   "id": "07698742",
   "metadata": {},
   "outputs": [
    {
     "data": {
      "text/html": [
       "<div>\n",
       "<style scoped>\n",
       "    .dataframe tbody tr th:only-of-type {\n",
       "        vertical-align: middle;\n",
       "    }\n",
       "\n",
       "    .dataframe tbody tr th {\n",
       "        vertical-align: top;\n",
       "    }\n",
       "\n",
       "    .dataframe thead th {\n",
       "        text-align: right;\n",
       "    }\n",
       "</style>\n",
       "<table border=\"1\" class=\"dataframe\">\n",
       "  <thead>\n",
       "    <tr style=\"text-align: right;\">\n",
       "      <th></th>\n",
       "      <th>Numero</th>\n",
       "      <th>Texto</th>\n",
       "      <th>Logica</th>\n",
       "    </tr>\n",
       "  </thead>\n",
       "  <tbody>\n",
       "  </tbody>\n",
       "</table>\n",
       "</div>"
      ],
      "text/plain": [
       "Empty DataFrame\n",
       "Columns: [Numero, Texto, Logica]\n",
       "Index: []"
      ]
     },
     "metadata": {},
     "output_type": "display_data"
    },
    {
     "data": {
      "text/html": [
       "<div>\n",
       "<style scoped>\n",
       "    .dataframe tbody tr th:only-of-type {\n",
       "        vertical-align: middle;\n",
       "    }\n",
       "\n",
       "    .dataframe tbody tr th {\n",
       "        vertical-align: top;\n",
       "    }\n",
       "\n",
       "    .dataframe thead th {\n",
       "        text-align: right;\n",
       "    }\n",
       "</style>\n",
       "<table border=\"1\" class=\"dataframe\">\n",
       "  <thead>\n",
       "    <tr style=\"text-align: right;\">\n",
       "      <th></th>\n",
       "      <th>Numero</th>\n",
       "      <th>Texto</th>\n",
       "      <th>Logica</th>\n",
       "    </tr>\n",
       "  </thead>\n",
       "  <tbody>\n",
       "    <tr>\n",
       "      <th>0</th>\n",
       "      <td>1</td>\n",
       "      <td>Primeiro</td>\n",
       "      <td>True</td>\n",
       "    </tr>\n",
       "    <tr>\n",
       "      <th>1</th>\n",
       "      <td>2</td>\n",
       "      <td>Segundo</td>\n",
       "      <td>False</td>\n",
       "    </tr>\n",
       "    <tr>\n",
       "      <th>2</th>\n",
       "      <td>3</td>\n",
       "      <td>Terceiro</td>\n",
       "      <td>True</td>\n",
       "    </tr>\n",
       "    <tr>\n",
       "      <th>3</th>\n",
       "      <td>4</td>\n",
       "      <td>Quarto</td>\n",
       "      <td>False</td>\n",
       "    </tr>\n",
       "  </tbody>\n",
       "</table>\n",
       "</div>"
      ],
      "text/plain": [
       "  Numero     Texto Logica\n",
       "0      1  Primeiro   True\n",
       "1      2   Segundo  False\n",
       "2      3  Terceiro   True\n",
       "3      4    Quarto  False"
      ]
     },
     "metadata": {},
     "output_type": "display_data"
    },
    {
     "name": "stdout",
     "output_type": "stream",
     "text": [
      "{\"schema\":{\"fields\":[{\"name\":\"index\",\"type\":\"integer\"},{\"name\":\"Numero\",\"type\":\"string\"},{\"name\":\"Texto\",\"type\":\"string\"},{\"name\":\"Logica\",\"type\":\"string\"}],\"primaryKey\":[\"index\"],\"pandas_version\":\"1.4.0\"},\"data\":[{\"index\":0,\"Numero\":\"1\",\"Texto\":\"Primeiro\",\"Logica\":\"True\"},{\"index\":1,\"Numero\":\"2\",\"Texto\":\"Segundo\",\"Logica\":\"False\"},{\"index\":2,\"Numero\":\"3\",\"Texto\":\"Terceiro\",\"Logica\":\"True\"},{\"index\":3,\"Numero\":\"4\",\"Texto\":\"Quarto\",\"Logica\":\"False\"}]}\n"
     ]
    }
   ],
   "source": [
    "import pandas as pd\n",
    "from lxml import objectify\n",
    "\n",
    "#cria uma arvore de elementos: lxml.etree._ElementTree\n",
    "xml= objectify.parse(open('XMLData.xml'))\n",
    "#obtem o elemento raiz da arvore\n",
    "root=xml.getroot()\n",
    "#total de filhos do elemento raiz - total de registros\n",
    "#cada registro sera uma linha no data frame pandas\n",
    "total=len(root.getchildren())\n",
    "\n",
    "#cria um dataframe vazio contendo 3 colunas\n",
    "df=pd.DataFrame(columns=['Numero','Texto','Logica'])\n",
    "display(df)\n",
    "\n",
    "#percorre a arvore obtendo os dados de cada filho da raiz(cada registro)\n",
    "for i in range(0,total):\n",
    "    dados=root.getchildren()[i].getchildren()\n",
    "    row=[dados[0].text,dados[1].text,dados[2].text]\n",
    "    df.loc[i]=row\n",
    "    \n",
    "display(df)    \n",
    "\n",
    "#salva em CSV\n",
    "df.to_csv('XMLData.csv',index=False,sep=';')\n",
    "\n",
    "#salva em XLSX\n",
    "df.to_excel('XLMLData.xlsx',index=False)\n",
    "\n",
    "#salva em formato javascript - objeto JSON\n",
    "#print(df.to_json())\n",
    "\n",
    "print(df.to_json(orient='table'))\n",
    "df.to_json('XMLData.json')"
   ]
  },
  {
   "cell_type": "code",
   "execution_count": null,
   "id": "fa8b6a0c",
   "metadata": {},
   "outputs": [],
   "source": []
  }
 ],
 "metadata": {
  "kernelspec": {
   "display_name": "Python 3 (ipykernel)",
   "language": "python",
   "name": "python3"
  },
  "language_info": {
   "codemirror_mode": {
    "name": "ipython",
    "version": 3
   },
   "file_extension": ".py",
   "mimetype": "text/x-python",
   "name": "python",
   "nbconvert_exporter": "python",
   "pygments_lexer": "ipython3",
   "version": "3.9.13"
  }
 },
 "nbformat": 4,
 "nbformat_minor": 5
}
