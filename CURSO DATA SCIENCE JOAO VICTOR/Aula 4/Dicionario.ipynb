{
 "cells": [
  {
   "cell_type": "code",
   "execution_count": 54,
   "id": "a40b1490",
   "metadata": {},
   "outputs": [],
   "source": [
    "lista=[1,2,2,3,3,4,4,5,5]\n",
    "tupla=1,2,2,3,3,4,4,5,5\n",
    "conj={1,2,2,3,3,4,4,5,5}\n",
    "dic={'joao':123,'se':456}"
   ]
  },
  {
   "cell_type": "code",
   "execution_count": 55,
   "id": "12b62c45",
   "metadata": {
    "scrolled": true
   },
   "outputs": [
    {
     "name": "stdout",
     "output_type": "stream",
     "text": [
      "[1, 2, 2, 3, 3, 4, 4, 5, 5]\n",
      "(1, 2, 2, 3, 3, 4, 4, 5, 5)\n",
      "{1, 2, 3, 4, 5}\n",
      "{'joao': 123, 'se': 456}\n"
     ]
    }
   ],
   "source": [
    "print(lista)\n",
    "print(tupla)\n",
    "print(conj)\n",
    "print(dic)\n"
   ]
  },
  {
   "cell_type": "code",
   "execution_count": 56,
   "id": "2b109bc4",
   "metadata": {
    "scrolled": true
   },
   "outputs": [
    {
     "data": {
      "text/plain": [
       "['__add__',\n",
       " '__class__',\n",
       " '__class_getitem__',\n",
       " '__contains__',\n",
       " '__delattr__',\n",
       " '__delitem__',\n",
       " '__dir__',\n",
       " '__doc__',\n",
       " '__eq__',\n",
       " '__format__',\n",
       " '__ge__',\n",
       " '__getattribute__',\n",
       " '__getitem__',\n",
       " '__gt__',\n",
       " '__hash__',\n",
       " '__iadd__',\n",
       " '__imul__',\n",
       " '__init__',\n",
       " '__init_subclass__',\n",
       " '__iter__',\n",
       " '__le__',\n",
       " '__len__',\n",
       " '__lt__',\n",
       " '__mul__',\n",
       " '__ne__',\n",
       " '__new__',\n",
       " '__reduce__',\n",
       " '__reduce_ex__',\n",
       " '__repr__',\n",
       " '__reversed__',\n",
       " '__rmul__',\n",
       " '__setattr__',\n",
       " '__setitem__',\n",
       " '__sizeof__',\n",
       " '__str__',\n",
       " '__subclasshook__',\n",
       " 'append',\n",
       " 'clear',\n",
       " 'copy',\n",
       " 'count',\n",
       " 'extend',\n",
       " 'index',\n",
       " 'insert',\n",
       " 'pop',\n",
       " 'remove',\n",
       " 'reverse',\n",
       " 'sort']"
      ]
     },
     "execution_count": 56,
     "metadata": {},
     "output_type": "execute_result"
    }
   ],
   "source": [
    "dir(lista)"
   ]
  },
  {
   "cell_type": "code",
   "execution_count": 57,
   "id": "5380c761",
   "metadata": {},
   "outputs": [],
   "source": [
    "#lista=[]\n",
    "#tupla=()\n",
    "#conj=set() #escrever set()para criar um conj vazio\n",
    "#dic={}"
   ]
  },
  {
   "cell_type": "markdown",
   "id": "f079488d",
   "metadata": {},
   "source": [
    "### Dicionarios sao conjuntos formados oir chave:valor(key:value)\n",
    "#### A chave tambem pode ser chamada de rotulo e pode ser string ou numerica\n",
    "#### O valor pode ser string,numero ou lista, assim um conjunto sera formado de lista com rotulos\n",
    "#### ex: (chave1:valor1, chave2:valor2...)"
   ]
  },
  {
   "cell_type": "code",
   "execution_count": 58,
   "id": "9367f931",
   "metadata": {},
   "outputs": [
    {
     "name": "stdout",
     "output_type": "stream",
     "text": [
      "{'a': 1, 'b': 2, 'c': 3}\n"
     ]
    }
   ],
   "source": [
    "#cria um dicionario\n",
    "meu_dici= {'a':1, 'b':2,'c':3}\n",
    "print(meu_dici)"
   ]
  },
  {
   "cell_type": "code",
   "execution_count": 59,
   "id": "5a820ee2",
   "metadata": {},
   "outputs": [
    {
     "name": "stdout",
     "output_type": "stream",
     "text": [
      "1\n",
      "2\n"
     ]
    }
   ],
   "source": [
    "#mostra valores usando as chaves\n",
    "print(meu_dici['a'])\n",
    "print(meu_dici['b'])"
   ]
  },
  {
   "cell_type": "code",
   "execution_count": 60,
   "id": "9d15d193",
   "metadata": {},
   "outputs": [
    {
     "name": "stdout",
     "output_type": "stream",
     "text": [
      "{'a': 1, 'b': 2, 'c': 3, 'd': 4}\n"
     ]
    }
   ],
   "source": [
    "#adiciona nova chave:valor\n",
    "meu_dici['d']=4\n",
    "print(meu_dici)"
   ]
  },
  {
   "cell_type": "code",
   "execution_count": 61,
   "id": "00dd09cd",
   "metadata": {},
   "outputs": [
    {
     "name": "stdout",
     "output_type": "stream",
     "text": [
      "3\n",
      "3\n"
     ]
    }
   ],
   "source": [
    "#mostra valor\n",
    "print(meu_dici['c'])\n",
    "print(meu_dici.get('c')) #memsa coisa que o de cima"
   ]
  },
  {
   "cell_type": "code",
   "execution_count": 62,
   "id": "38ba1f3a",
   "metadata": {},
   "outputs": [
    {
     "data": {
      "text/plain": [
       "['a', 'b', 'c', 'd']"
      ]
     },
     "execution_count": 62,
     "metadata": {},
     "output_type": "execute_result"
    }
   ],
   "source": [
    "#converte dicionario em lista\n",
    "list(meu_dici)"
   ]
  },
  {
   "cell_type": "code",
   "execution_count": 63,
   "id": "2414cfb9",
   "metadata": {},
   "outputs": [
    {
     "name": "stdout",
     "output_type": "stream",
     "text": [
      "1234\n"
     ]
    }
   ],
   "source": [
    "#cria um dicionario de contatos usando chave:valor\n",
    "fones={'joao':1234,'maria':4567}\n",
    "print(fones['joao'])"
   ]
  },
  {
   "cell_type": "code",
   "execution_count": 64,
   "id": "95424ac1",
   "metadata": {},
   "outputs": [
    {
     "name": "stdout",
     "output_type": "stream",
     "text": [
      "Tamanho 2\n"
     ]
    }
   ],
   "source": [
    "print('Tamanho',len(fones))"
   ]
  },
  {
   "cell_type": "code",
   "execution_count": 65,
   "id": "371f144f",
   "metadata": {},
   "outputs": [
    {
     "name": "stdout",
     "output_type": "stream",
     "text": [
      "9999\n"
     ]
    }
   ],
   "source": [
    "#altera valor\n",
    "fones['joao']=9999\n",
    "print(fones['joao'])"
   ]
  },
  {
   "cell_type": "code",
   "execution_count": 66,
   "id": "b8525e25",
   "metadata": {},
   "outputs": [
    {
     "name": "stdout",
     "output_type": "stream",
     "text": [
      "nao tem luiz\n"
     ]
    }
   ],
   "source": [
    "if 'luiz' in fones:\n",
    "    print(fones['luiz'])\n",
    "else:\n",
    "    print('nao tem luiz')"
   ]
  },
  {
   "cell_type": "code",
   "execution_count": 67,
   "id": "8d6c9cf3",
   "metadata": {},
   "outputs": [
    {
     "name": "stdout",
     "output_type": "stream",
     "text": [
      "nao tem joana\n"
     ]
    }
   ],
   "source": [
    "if 'joana' not in fones:\n",
    "    print('nao tem joana')"
   ]
  },
  {
   "cell_type": "code",
   "execution_count": 68,
   "id": "14be882f",
   "metadata": {},
   "outputs": [
    {
     "data": {
      "text/plain": [
       "dict_keys(['a', 'b', 'c', 'd'])"
      ]
     },
     "execution_count": 68,
     "metadata": {},
     "output_type": "execute_result"
    }
   ],
   "source": [
    "#mostra chaves\n",
    "meu_dici.keys()"
   ]
  },
  {
   "cell_type": "code",
   "execution_count": 69,
   "id": "2c357f72",
   "metadata": {},
   "outputs": [
    {
     "name": "stdout",
     "output_type": "stream",
     "text": [
      "{'c': 3, 'd': 4}\n"
     ]
    }
   ],
   "source": [
    "#remove chaves\n",
    "meu_dici.pop('a')\n",
    "meu_dici.pop('b')\n",
    "print(meu_dici)"
   ]
  },
  {
   "cell_type": "code",
   "execution_count": 70,
   "id": "c53703fa",
   "metadata": {},
   "outputs": [
    {
     "name": "stdout",
     "output_type": "stream",
     "text": [
      "dict_keys(['joao', 'maria'])\n",
      "dict_values([9999, 4567])\n"
     ]
    }
   ],
   "source": [
    "#mostra chaves\n",
    "print(fones.keys())\n",
    "#mostra valores\n",
    "print(fones.values())"
   ]
  },
  {
   "cell_type": "code",
   "execution_count": 71,
   "id": "f94fe5f7",
   "metadata": {},
   "outputs": [
    {
     "name": "stdout",
     "output_type": "stream",
     "text": [
      "joao 9999\n",
      "maria 4567\n"
     ]
    }
   ],
   "source": [
    "#recorrendo o dicionario com for\n",
    "for k in fones:\n",
    "    print(k,fones[k])"
   ]
  },
  {
   "cell_type": "code",
   "execution_count": 72,
   "id": "360fcb1a",
   "metadata": {
    "scrolled": true
   },
   "outputs": [
    {
     "name": "stdout",
     "output_type": "stream",
     "text": [
      "Pais brasil\n",
      "Idioma portugues\n"
     ]
    }
   ],
   "source": [
    "#cria um dicionario atraves de um conjunto de chaves:valores\n",
    "info={'pais':'brasil','habitantes':210000000,'idioma':'portugues','regioes':5}\n",
    "print('Pais',info['pais'])\n",
    "print('Idioma',info['idioma'])"
   ]
  },
  {
   "cell_type": "code",
   "execution_count": 73,
   "id": "3bdd6183",
   "metadata": {},
   "outputs": [
    {
     "name": "stdout",
     "output_type": "stream",
     "text": [
      "[('joao', 'joao@gmail.com'), ('maria', 'maria@gmail.com'), ('luiz', 'luiz@gmail.com')]\n",
      "{'joao': 'joao@gmail.com', 'maria': 'maria@gmail.com', 'luiz': 'luiz@gmail.com'}\n"
     ]
    }
   ],
   "source": [
    "#dicionario a partir de uma lista de tuplas\n",
    "lista=[\n",
    "    ('joao','joao@gmail.com'),\n",
    "    ('maria','maria@gmail.com'),\n",
    "    ('luiz','luiz@gmail.com')\n",
    "]\n",
    "print(lista)\n",
    "#cria um dicionario a partir da lista\n",
    "contatos=dict(lista)\n",
    "print(contatos)"
   ]
  },
  {
   "cell_type": "code",
   "execution_count": 74,
   "id": "66a5e84f",
   "metadata": {},
   "outputs": [
    {
     "name": "stdout",
     "output_type": "stream",
     "text": [
      "[('id', [1, 2, 3]), ('vendedores', ['Julio', 'Claudio', 'Otaviano']), ('vendas', [15000, 25000, 45000])]\n",
      "{'id': [1, 2, 3], 'vendedores': ['Julio', 'Claudio', 'Otaviano'], 'vendas': [15000, 25000, 45000]}\n",
      "[1, 2, 3]\n",
      "['Julio', 'Claudio', 'Otaviano']\n",
      "[15000, 25000, 45000]\n"
     ]
    }
   ],
   "source": [
    "#dicionarios a partir de lista, cujo valores sao sublistas\n",
    "lista_vendas=[\n",
    "    ('id',[1,2,3]),\n",
    "    ('vendedores',['Julio','Claudio','Otaviano']),\n",
    "    ('vendas',[15000,25000,45000])\n",
    "]\n",
    "print(lista_vendas)\n",
    "tabela=dict(lista_vendas)\n",
    "print(tabela)\n",
    "print(tabela['id'])\n",
    "print(tabela['vendedores'])\n",
    "print(tabela['vendas'])"
   ]
  },
  {
   "cell_type": "code",
   "execution_count": 75,
   "id": "62aee662",
   "metadata": {},
   "outputs": [
    {
     "name": "stdout",
     "output_type": "stream",
     "text": [
      "id = [1, 2, 3]\n",
      "vendedores = ['Julio', 'Claudio', 'Otaviano']\n",
      "vendas = [15000, 25000, 45000]\n"
     ]
    }
   ],
   "source": [
    "for k in tabela:\n",
    "    print(k,'=',tabela[k])"
   ]
  },
  {
   "cell_type": "code",
   "execution_count": 76,
   "id": "97b4ab61",
   "metadata": {},
   "outputs": [
    {
     "data": {
      "text/plain": [
       "[('id', [1, 2, 3]),\n",
       " ('vendedores', ['Julio', 'Claudio', 'Otaviano']),\n",
       " ('vendas', [15000, 25000, 45000])]"
      ]
     },
     "execution_count": 76,
     "metadata": {},
     "output_type": "execute_result"
    }
   ],
   "source": [
    "#obtem a lista de itens do dicionario\n",
    "list(tabela.items())"
   ]
  },
  {
   "cell_type": "code",
   "execution_count": 79,
   "id": "59b5db77",
   "metadata": {},
   "outputs": [
    {
     "data": {
      "text/html": [
       "<div>\n",
       "<style scoped>\n",
       "    .dataframe tbody tr th:only-of-type {\n",
       "        vertical-align: middle;\n",
       "    }\n",
       "\n",
       "    .dataframe tbody tr th {\n",
       "        vertical-align: top;\n",
       "    }\n",
       "\n",
       "    .dataframe thead th {\n",
       "        text-align: right;\n",
       "    }\n",
       "</style>\n",
       "<table border=\"1\" class=\"dataframe\">\n",
       "  <thead>\n",
       "    <tr style=\"text-align: right;\">\n",
       "      <th></th>\n",
       "      <th>id</th>\n",
       "      <th>vendedores</th>\n",
       "      <th>vendas</th>\n",
       "    </tr>\n",
       "  </thead>\n",
       "  <tbody>\n",
       "    <tr>\n",
       "      <th>0</th>\n",
       "      <td>1</td>\n",
       "      <td>Julio</td>\n",
       "      <td>15000</td>\n",
       "    </tr>\n",
       "    <tr>\n",
       "      <th>1</th>\n",
       "      <td>2</td>\n",
       "      <td>Claudio</td>\n",
       "      <td>25000</td>\n",
       "    </tr>\n",
       "    <tr>\n",
       "      <th>2</th>\n",
       "      <td>3</td>\n",
       "      <td>Otaviano</td>\n",
       "      <td>45000</td>\n",
       "    </tr>\n",
       "  </tbody>\n",
       "</table>\n",
       "</div>"
      ],
      "text/plain": [
       "   id vendedores  vendas\n",
       "0   1      Julio   15000\n",
       "1   2    Claudio   25000\n",
       "2   3   Otaviano   45000"
      ]
     },
     "metadata": {},
     "output_type": "display_data"
    }
   ],
   "source": [
    "#usando pandas,cria dataframe a partir do dicionario tabela\n",
    "#pip install pandas\n",
    "import pandas as pd \n",
    "df= pd.DataFrame.from_dict(tabela)\n",
    "display(df)"
   ]
  },
  {
   "cell_type": "code",
   "execution_count": 82,
   "id": "551871b5",
   "metadata": {},
   "outputs": [
    {
     "data": {
      "text/html": [
       "<div>\n",
       "<style scoped>\n",
       "    .dataframe tbody tr th:only-of-type {\n",
       "        vertical-align: middle;\n",
       "    }\n",
       "\n",
       "    .dataframe tbody tr th {\n",
       "        vertical-align: top;\n",
       "    }\n",
       "\n",
       "    .dataframe thead th {\n",
       "        text-align: right;\n",
       "    }\n",
       "</style>\n",
       "<table border=\"1\" class=\"dataframe\">\n",
       "  <thead>\n",
       "    <tr style=\"text-align: right;\">\n",
       "      <th></th>\n",
       "      <th>Nome</th>\n",
       "      <th>Idade</th>\n",
       "      <th>Opto</th>\n",
       "    </tr>\n",
       "  </thead>\n",
       "  <tbody>\n",
       "    <tr>\n",
       "      <th>0</th>\n",
       "      <td>Frodo</td>\n",
       "      <td>25</td>\n",
       "      <td>Vendas</td>\n",
       "    </tr>\n",
       "    <tr>\n",
       "      <th>1</th>\n",
       "      <td>Sam</td>\n",
       "      <td>26</td>\n",
       "      <td>Vendas</td>\n",
       "    </tr>\n",
       "    <tr>\n",
       "      <th>2</th>\n",
       "      <td>Gandalf</td>\n",
       "      <td>50</td>\n",
       "      <td>Contabilidade</td>\n",
       "    </tr>\n",
       "    <tr>\n",
       "      <th>3</th>\n",
       "      <td>Galandriel</td>\n",
       "      <td>40</td>\n",
       "      <td>RH</td>\n",
       "    </tr>\n",
       "  </tbody>\n",
       "</table>\n",
       "</div>"
      ],
      "text/plain": [
       "         Nome  Idade           Opto\n",
       "0       Frodo     25         Vendas\n",
       "1         Sam     26         Vendas\n",
       "2     Gandalf     50  Contabilidade\n",
       "3  Galandriel     40             RH"
      ]
     },
     "metadata": {},
     "output_type": "display_data"
    },
    {
     "data": {
      "text/plain": [
       "0    25\n",
       "1    26\n",
       "2    50\n",
       "3    40\n",
       "Name: Idade, dtype: int64"
      ]
     },
     "metadata": {},
     "output_type": "display_data"
    }
   ],
   "source": [
    "#cria outro dataframe a partir de um dicionario de dados\n",
    "dados={\n",
    "    'Nome':['Frodo','Sam','Gandalf','Galandriel'],\n",
    "    'Idade':[25,26,50,40],\n",
    "    'Opto':['Vendas','Vendas','Contabilidade','RH']\n",
    "}\n",
    "#cria a data frame\n",
    "df=pd.DataFrame.from_dict(dados)\n",
    "display(df)\n",
    "\n",
    "#vai dar erro\n",
    "#display(df['idade'])\n",
    "display(df['Idade'])"
   ]
  },
  {
   "cell_type": "code",
   "execution_count": 90,
   "id": "7c8b95fa",
   "metadata": {},
   "outputs": [
    {
     "name": "stdout",
     "output_type": "stream",
     "text": [
      "<class 'dict'>\n",
      "<class 'pandas.core.frame.DataFrame'>\n",
      "<class 'pandas.core.series.Series'>\n",
      "25\n",
      "['Vendas', 'Vendas', 'Contabilidade', 'RH']\n"
     ]
    }
   ],
   "source": [
    "print(type(dados))\n",
    "print(type(df))\n",
    "print(type(df['Idade']))\n",
    "print(min(list(df['Idade'])))\n",
    "print(list(df['Opto']))"
   ]
  },
  {
   "cell_type": "code",
   "execution_count": 92,
   "id": "200072d3",
   "metadata": {},
   "outputs": [
    {
     "name": "stdout",
     "output_type": "stream",
     "text": [
      "Menor idade: 25\n",
      "Maior idade: 50\n",
      "Media idades: 35.25\n"
     ]
    }
   ],
   "source": [
    "#usando python\n",
    "print('Menor idade:',min(df['Idade']))\n",
    "print('Maior idade:',max(df['Idade']))\n",
    "print('Media idades:',sum(df['Idade'])/len(df['Idade']))"
   ]
  },
  {
   "cell_type": "code",
   "execution_count": 96,
   "id": "7a73218a",
   "metadata": {},
   "outputs": [
    {
     "name": "stdout",
     "output_type": "stream",
     "text": [
      "Menor: 25\n",
      "Maior: 50\n",
      "Media: 35.25\n"
     ]
    }
   ],
   "source": [
    "#usando pandas\n",
    "print('Menor:',df['Idade'].min())\n",
    "print('Maior:',df['Idade'].max())\n",
    "print('Media:',df['Idade'].mean())"
   ]
  },
  {
   "cell_type": "code",
   "execution_count": 97,
   "id": "bf32dee8",
   "metadata": {},
   "outputs": [],
   "source": [
    "#cria dicionario vazio\n",
    "cidades={}\n",
    "cidadas=dict"
   ]
  },
  {
   "cell_type": "code",
   "execution_count": 114,
   "id": "351d5016",
   "metadata": {},
   "outputs": [
    {
     "data": {
      "text/plain": [
       "{'ponta grossa': 334535, 'castro': 71800, 'carambei': 24225}"
      ]
     },
     "metadata": {},
     "output_type": "display_data"
    }
   ],
   "source": [
    "#adiciona dados\n",
    "cidades['ponta grossa']=334535\n",
    "cidades['castro']=71800\n",
    "cidades['carambei']=24225\n",
    "display(cidades)"
   ]
  },
  {
   "cell_type": "code",
   "execution_count": 113,
   "id": "db50a3ba",
   "metadata": {},
   "outputs": [
    {
     "name": "stdout",
     "output_type": "stream",
     "text": [
      "\n",
      "Cidade \t\tPopulaçao\n",
      "ponta grossa    334535\n",
      "castro          71800\n",
      "carambei        24225\n"
     ]
    }
   ],
   "source": [
    "print('\\nCidade \\t\\tPopulaçao')\n",
    "for  k in cidades:\n",
    "    print(f'{k:15} {cidades[k]}')"
   ]
  },
  {
   "cell_type": "code",
   "execution_count": 115,
   "id": "68bbd44f",
   "metadata": {},
   "outputs": [
    {
     "name": "stdout",
     "output_type": "stream",
     "text": [
      "\n",
      "UF \tPopulaçao\n"
     ]
    }
   ],
   "source": [
    "#cria outro dicionario de dados\n",
    "estados={'SC':7.165,'RS':11.25,'PR':11.08}\n",
    "print('\\nUF \\tPopulaçao')"
   ]
  },
  {
   "cell_type": "code",
   "execution_count": 117,
   "id": "0ae32cfa",
   "metadata": {},
   "outputs": [
    {
     "name": "stdout",
     "output_type": "stream",
     "text": [
      "Chaves ordenadas ['PR', 'RS', 'SC']\n"
     ]
    }
   ],
   "source": [
    "#ordenaçao de chaves\n",
    "print('Chaves ordenadas',sorted(estados))\n"
   ]
  },
  {
   "cell_type": "code",
   "execution_count": 119,
   "id": "9bb3be6a",
   "metadata": {},
   "outputs": [
    {
     "name": "stdout",
     "output_type": "stream",
     "text": [
      "\n",
      "Cidade \t\tPopulaçao\n",
      "carambei        24225\n",
      "castro          71800\n",
      "ponta grossa    334535\n"
     ]
    }
   ],
   "source": [
    "print('\\nCidade \\t\\tPopulaçao')\n",
    "for  k in sorted(cidades):\n",
    "    print(f'{k:15} {cidades[k]}')"
   ]
  },
  {
   "cell_type": "code",
   "execution_count": 120,
   "id": "1901d3bf",
   "metadata": {},
   "outputs": [
    {
     "data": {
      "text/plain": [
       "SC     7.165\n",
       "RS    11.250\n",
       "PR    11.080\n",
       "dtype: float64"
      ]
     },
     "metadata": {},
     "output_type": "display_data"
    },
    {
     "data": {
      "text/plain": [
       "pandas.core.series.Series"
      ]
     },
     "execution_count": 120,
     "metadata": {},
     "output_type": "execute_result"
    }
   ],
   "source": [
    "#cria uma serie do pandas\n",
    "import pandas as pd\n",
    "\n",
    "#as cahves do dicionario serao os indices\n",
    "series= pd.Series(estados)\n",
    "display(series)\n",
    "type(series)"
   ]
  },
  {
   "cell_type": "code",
   "execution_count": 123,
   "id": "ac0df935",
   "metadata": {},
   "outputs": [
    {
     "data": {
      "text/html": [
       "<div>\n",
       "<style scoped>\n",
       "    .dataframe tbody tr th:only-of-type {\n",
       "        vertical-align: middle;\n",
       "    }\n",
       "\n",
       "    .dataframe tbody tr th {\n",
       "        vertical-align: top;\n",
       "    }\n",
       "\n",
       "    .dataframe thead th {\n",
       "        text-align: right;\n",
       "    }\n",
       "</style>\n",
       "<table border=\"1\" class=\"dataframe\">\n",
       "  <thead>\n",
       "    <tr style=\"text-align: right;\">\n",
       "      <th></th>\n",
       "      <th>Populaçao(milhoes)</th>\n",
       "    </tr>\n",
       "  </thead>\n",
       "  <tbody>\n",
       "    <tr>\n",
       "      <th>SC</th>\n",
       "      <td>7.165</td>\n",
       "    </tr>\n",
       "    <tr>\n",
       "      <th>RS</th>\n",
       "      <td>11.250</td>\n",
       "    </tr>\n",
       "    <tr>\n",
       "      <th>PR</th>\n",
       "      <td>11.080</td>\n",
       "    </tr>\n",
       "  </tbody>\n",
       "</table>\n",
       "</div>"
      ],
      "text/plain": [
       "    Populaçao(milhoes)\n",
       "SC               7.165\n",
       "RS              11.250\n",
       "PR              11.080"
      ]
     },
     "execution_count": 123,
     "metadata": {},
     "output_type": "execute_result"
    }
   ],
   "source": [
    "#converte em DataFrame,sendo que as chaves serao os indices\n",
    "df=series.to_frame(name='Populaçao(milhoes)') #ou pd.DataFrame(series)\n",
    "df"
   ]
  },
  {
   "cell_type": "code",
   "execution_count": 125,
   "id": "5d7e3e86",
   "metadata": {},
   "outputs": [
    {
     "name": "stdout",
     "output_type": "stream",
     "text": [
      "{}\n"
     ]
    }
   ],
   "source": [
    "#copia um dicionario\n",
    "copia =estados.copy()\n",
    "\n",
    "#apaga todos os dados\n",
    "copia.clear()\n",
    "print(copia)"
   ]
  },
  {
   "cell_type": "code",
   "execution_count": 132,
   "id": "6f747f4e",
   "metadata": {},
   "outputs": [
    {
     "name": "stdout",
     "output_type": "stream",
     "text": [
      "Josiel\n",
      "Josiel\n",
      "Ordenado pela chave\n",
      "1 Josiel\n",
      "2 Gabriel\n",
      "3 Rafael\n",
      "Ordenado pelo valor\n",
      "2 Gabriel\n",
      "1 Josiel\n",
      "3 Rafael\n",
      "Ordenado pelo valor reverso\n",
      "3 Rafael\n",
      "1 Josiel\n",
      "2 Gabriel\n"
     ]
    }
   ],
   "source": [
    "#dicionario com chave numerica\n",
    "alunos={3:'Rafael',2:'Gabriel',1:'Josiel'}\n",
    "print(alunos[1])\n",
    "print(alunos.get(1))\n",
    "\n",
    "#ordena pela chave\n",
    "print('Ordenado pela chave')\n",
    "for k in sorted(alunos):\n",
    "    print(k,alunos[k])\n",
    "    \n",
    "#ordena pelo valor\n",
    "print('Ordenado pelo valor')\n",
    "for k in sorted(alunos, key=alunos.get):\n",
    "    print(k,alunos[k])\n",
    "    \n",
    "#ordena pelo valor reverso\n",
    "print('Ordenado pelo valor reverso')\n",
    "for k in sorted(alunos, key=alunos.get, reverse=True):\n",
    "    print(k,alunos[k])    "
   ]
  },
  {
   "cell_type": "code",
   "execution_count": 139,
   "id": "7022b838",
   "metadata": {},
   "outputs": [
    {
     "name": "stdout",
     "output_type": "stream",
     "text": [
      "\n",
      "Dados IBGE {'indice': [0, 1, 2], 'cidades': ['Ponta Grossa', 'Castro', 'Carambei'], 'populacao': [334535, 71809, 24225]}\n",
      "\n",
      "Indice \tCidade \t\tPopulacao\n",
      "0\tPonta Grossa    334535\n",
      "1\tCastro          71809\n",
      "2\tCarambei        24225\n"
     ]
    }
   ],
   "source": [
    "#dicionario com rotulos e listas\n",
    "indice=[0,1,2]\n",
    "cidades=['Ponta Grossa','Castro','Carambei']\n",
    "populacao=[334535,71809,24225]\n",
    "dados={'indice':indice,'cidades':cidades,'populacao':populacao}\n",
    "\n",
    "print('\\nDados IBGE',dados)\n",
    "\n",
    "print('\\nIndice \\tCidade \\t\\tPopulacao')\n",
    "for i in dados['indice']:\n",
    "    print(f\"{i}\\t{dados['cidades'][i]:16}{dados['populacao'][i]}\")\n",
    "    \n",
    "    "
   ]
  },
  {
   "cell_type": "code",
   "execution_count": 141,
   "id": "74cb4a99",
   "metadata": {},
   "outputs": [
    {
     "data": {
      "text/html": [
       "<div>\n",
       "<style scoped>\n",
       "    .dataframe tbody tr th:only-of-type {\n",
       "        vertical-align: middle;\n",
       "    }\n",
       "\n",
       "    .dataframe tbody tr th {\n",
       "        vertical-align: top;\n",
       "    }\n",
       "\n",
       "    .dataframe thead th {\n",
       "        text-align: right;\n",
       "    }\n",
       "</style>\n",
       "<table border=\"1\" class=\"dataframe\">\n",
       "  <thead>\n",
       "    <tr style=\"text-align: right;\">\n",
       "      <th></th>\n",
       "      <th>cidades</th>\n",
       "      <th>populacao</th>\n",
       "    </tr>\n",
       "    <tr>\n",
       "      <th>indice</th>\n",
       "      <th></th>\n",
       "      <th></th>\n",
       "    </tr>\n",
       "  </thead>\n",
       "  <tbody>\n",
       "    <tr>\n",
       "      <th>0</th>\n",
       "      <td>Ponta Grossa</td>\n",
       "      <td>334535</td>\n",
       "    </tr>\n",
       "    <tr>\n",
       "      <th>1</th>\n",
       "      <td>Castro</td>\n",
       "      <td>71809</td>\n",
       "    </tr>\n",
       "    <tr>\n",
       "      <th>2</th>\n",
       "      <td>Carambei</td>\n",
       "      <td>24225</td>\n",
       "    </tr>\n",
       "  </tbody>\n",
       "</table>\n",
       "</div>"
      ],
      "text/plain": [
       "             cidades  populacao\n",
       "indice                         \n",
       "0       Ponta Grossa     334535\n",
       "1             Castro      71809\n",
       "2           Carambei      24225"
      ]
     },
     "execution_count": 141,
     "metadata": {},
     "output_type": "execute_result"
    }
   ],
   "source": [
    "import pandas as pd\n",
    "df=pd.DataFrame(dados)\n",
    "df\n",
    "df=pd.DataFrame(dados).set_index('indice')\n",
    "df"
   ]
  }
 ],
 "metadata": {
  "kernelspec": {
   "display_name": "Python 3 (ipykernel)",
   "language": "python",
   "name": "python3"
  },
  "language_info": {
   "codemirror_mode": {
    "name": "ipython",
    "version": 3
   },
   "file_extension": ".py",
   "mimetype": "text/x-python",
   "name": "python",
   "nbconvert_exporter": "python",
   "pygments_lexer": "ipython3",
   "version": "3.9.13"
  }
 },
 "nbformat": 4,
 "nbformat_minor": 5
}
