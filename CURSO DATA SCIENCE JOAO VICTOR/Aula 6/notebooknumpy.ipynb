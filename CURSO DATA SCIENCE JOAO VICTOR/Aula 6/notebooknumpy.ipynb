{
 "cells": [
  {
   "cell_type": "code",
   "execution_count": 12,
   "id": "45003c92",
   "metadata": {},
   "outputs": [
    {
     "name": "stdout",
     "output_type": "stream",
     "text": [
      "Matriz python 2D: [[1, 2, 3], [4, 5, 6]]\n",
      "[1, 2, 3]\n",
      "[4, 5, 6]\n",
      "1\n",
      "5\n",
      "[[1, 2, 3]]\n",
      "2\n",
      "3\n",
      "[1, 2, 3]\n",
      "[4, 5, 6]\n"
     ]
    }
   ],
   "source": [
    "m2d =[[1,2,3],\n",
    "    [4,5,6]\n",
    "   ]\n",
    "print('Matriz python 2D:',m2d)\n",
    "print(m2d[0]) #linha 0\n",
    "print(m2d[1]) #linha 1\n",
    "print(m2d[0][0]) #linha 0, elemento 0 => 1\n",
    "print(m2d[1][1])\n",
    "print(m2d[:1])#so linha 0\n",
    "print(len(m2d))#2 linhas\n",
    "print(len(m2d[0]))#3 colunas\n",
    "print(min(m2d))\n",
    "print(max(m2d))"
   ]
  },
  {
   "cell_type": "code",
   "execution_count": 13,
   "id": "db5c8105",
   "metadata": {},
   "outputs": [
    {
     "name": "stdout",
     "output_type": "stream",
     "text": [
      "Matriz python: [[[1, 2, 3], [4, 5, 6]], [[255, 255, 255], [255, 0, 0]]]\n",
      "[[1, 2, 3], [4, 5, 6]]\n",
      "[1, 2, 3]\n",
      "1\n",
      "2\n",
      "2\n",
      "3\n",
      "Tamanho: 12\n"
     ]
    }
   ],
   "source": [
    "m3d=[\n",
    "        [\n",
    "          [1,2,3],\n",
    "          [4,5,6],\n",
    "        ],\n",
    "        [\n",
    "          [255,255,255], \n",
    "          [255,0,0]\n",
    "        ]\n",
    "   ]\n",
    "print('Matriz python:',m3d)\n",
    "print(m3d[0])#nivel 0\n",
    "print(m3d[0][0])#nivel 0,linha 0\n",
    "print(m3d[0][0][0])#linha 0,linha 0,coluna 0\n",
    "print(len(m3d)) #2 niveis\n",
    "print(len(m3d[0]))#2 colunas\n",
    "print(len(m3d[0][0]))#colunas\n",
    "print('Tamanho:',len(m3d)*len(m3d[0])*len(m3d[0][0]))"
   ]
  },
  {
   "cell_type": "markdown",
   "id": "6fd66388",
   "metadata": {},
   "source": [
    "#### Comparação array python x numpy"
   ]
  },
  {
   "cell_type": "code",
   "execution_count": 14,
   "id": "b3b19f02",
   "metadata": {},
   "outputs": [
    {
     "name": "stdout",
     "output_type": "stream",
     "text": [
      "Tempo array python: 12.048290252685547\n"
     ]
    }
   ],
   "source": [
    "#Teste lista pyhton\n",
    "import time\n",
    "lista= list(range(1000000)) #1 milhão\n",
    "ini=time.time()\n",
    "\n",
    "for _ in range(100):\n",
    "    lista=[x*2 for x in lista]\n",
    "    \n",
    "fim= time.time()    \n",
    "dif1=fim - ini\n",
    "print('Tempo array python:',dif1)\n"
   ]
  },
  {
   "cell_type": "code",
   "execution_count": 15,
   "id": "9cf83be0",
   "metadata": {},
   "outputs": [
    {
     "name": "stdout",
     "output_type": "stream",
     "text": [
      "Tempo array numpy: 0.07100224494934082\n"
     ]
    }
   ],
   "source": [
    "#Testa array com numpy\n",
    "import numpy as np\n",
    "arr=np.arange(1000000) #1 milhao\n",
    "ini=time.time()\n",
    "\n",
    "for _ in range(100):\n",
    "    arr*=2\n",
    "    \n",
    "fim= time.time()    \n",
    "dif2=fim-ini\n",
    "print('Tempo array numpy:',dif2)"
   ]
  },
  {
   "cell_type": "code",
   "execution_count": 16,
   "id": "17568abc",
   "metadata": {},
   "outputs": [
    {
     "name": "stdout",
     "output_type": "stream",
     "text": [
      "169.6888635180739\n"
     ]
    }
   ],
   "source": [
    "print(dif1/dif2)"
   ]
  },
  {
   "cell_type": "code",
   "execution_count": 17,
   "id": "bfef2f97",
   "metadata": {},
   "outputs": [
    {
     "data": {
      "text/plain": [
       "array([ 0,  2,  4,  6,  8, 10, 12, 14, 16, 18])"
      ]
     },
     "execution_count": 17,
     "metadata": {},
     "output_type": "execute_result"
    }
   ],
   "source": [
    "arr=np.arange(10)\n",
    "arr*2"
   ]
  },
  {
   "cell_type": "code",
   "execution_count": 18,
   "id": "22fd1ed4",
   "metadata": {
    "scrolled": false
   },
   "outputs": [
    {
     "data": {
      "text/plain": [
       "[1, 2, 3, 1, 2, 3]"
      ]
     },
     "execution_count": 18,
     "metadata": {},
     "output_type": "execute_result"
    }
   ],
   "source": [
    "lista=[1,2,3]\n",
    "lista * 2"
   ]
  },
  {
   "cell_type": "markdown",
   "id": "617cf710",
   "metadata": {},
   "source": [
    "#### Array numpy a partir de uma lista"
   ]
  },
  {
   "cell_type": "code",
   "execution_count": 19,
   "id": "76a34c5b",
   "metadata": {},
   "outputs": [
    {
     "name": "stdout",
     "output_type": "stream",
     "text": [
      "<class 'numpy.ndarray'>\n"
     ]
    },
    {
     "data": {
      "text/plain": [
       "array([[3, 2, 1],\n",
       "       [6, 5, 4],\n",
       "       [1, 7, 2]])"
      ]
     },
     "metadata": {},
     "output_type": "display_data"
    }
   ],
   "source": [
    "#axis = 0 =>significa coluna\n",
    "#axis = 1 =>significa linha\n",
    "\n",
    "import numpy\n",
    "lista = [\n",
    "        [3,2,1],\n",
    "        [6,5,4],\n",
    "        [1,7,2]\n",
    "        ]\n",
    "matriz = numpy.array(lista)\n",
    "print(type(matriz))\n",
    "display(matriz)"
   ]
  },
  {
   "cell_type": "code",
   "execution_count": 20,
   "id": "7e5b55f7",
   "metadata": {},
   "outputs": [
    {
     "name": "stdout",
     "output_type": "stream",
     "text": [
      "Numero de dimensões: 2\n",
      "Tipod de objeto: <class 'numpy.ndarray'>\n",
      "Tipo de dado numpy: int32\n",
      "Tamanho do array: 9\n",
      "Formato do array: (3, 3)\n",
      "Linhas: 3\n",
      "Colunas: 3\n"
     ]
    }
   ],
   "source": [
    "#Propriedades do array no numpy\n",
    "print('Numero de dimensões:',matriz.ndim) #2d\n",
    "print('Tipod de objeto:',type(matriz))     #numpy.ndarray\n",
    "print('Tipo de dado numpy:',matriz.dtype)  #data type= int 32 bits\n",
    "print('Tamanho do array:',matriz.size)     #quantidade de itens\n",
    "print('Formato do array:',matriz.shape)    #dimensoes:(2,3)\n",
    "print('Linhas:',matriz.shape[0])\n",
    "print('Colunas:',matriz.shape[1])"
   ]
  },
  {
   "cell_type": "code",
   "execution_count": 21,
   "id": "0bbca409",
   "metadata": {},
   "outputs": [
    {
     "name": "stdout",
     "output_type": "stream",
     "text": [
      "Minimo: 1\n",
      "Maximo: 7\n",
      "Media: 3.4444444444444446\n",
      "Soma: 31\n",
      "Minimo: 1\n",
      "Desvio padrão: 2.060804110110156\n",
      "Minimo por coluna: [1 2 1]\n",
      "Minimo por linha: [1 4 1]\n",
      "Maximo por coluna: [6 7 4]\n",
      "Maximo por linha: [3 6 7]\n"
     ]
    }
   ],
   "source": [
    "#Metodos ou funçoes dp array numpy\n",
    "print('Minimo:',matriz.min())\n",
    "print('Maximo:',matriz.max())\n",
    "print('Media:',matriz.mean())\n",
    "print('Soma:',matriz.sum())\n",
    "print('Minimo:',matriz.min())\n",
    "print('Desvio padrão:',matriz.std())\n",
    "\n",
    "print('Minimo por coluna:',matriz.min(axis=0))\n",
    "print('Minimo por linha:',matriz.min(axis=1))\n",
    "\n",
    "print('Maximo por coluna:',matriz.max(axis=0))\n",
    "print('Maximo por linha:',matriz.max(axis=1))"
   ]
  },
  {
   "cell_type": "code",
   "execution_count": 23,
   "id": "2f1f6ac0",
   "metadata": {},
   "outputs": [
    {
     "data": {
      "text/plain": [
       "array([[1, 2, 3],\n",
       "       [4, 5, 6],\n",
       "       [1, 2, 7]])"
      ]
     },
     "metadata": {},
     "output_type": "display_data"
    }
   ],
   "source": [
    "#ordenaçao de matriz\n",
    "matriz.sort()\n",
    "display(matriz)"
   ]
  },
  {
   "cell_type": "code",
   "execution_count": 24,
   "id": "ba5e96b0",
   "metadata": {},
   "outputs": [
    {
     "data": {
      "text/plain": [
       "[[1, 2, 3], [4, 5, 6], [1, 2, 7]]"
      ]
     },
     "metadata": {},
     "output_type": "display_data"
    }
   ],
   "source": [
    "#convete em lista\n",
    "lista=matriz.tolist()\n",
    "display(lista)"
   ]
  },
  {
   "cell_type": "code",
   "execution_count": 25,
   "id": "27a3d60b",
   "metadata": {},
   "outputs": [
    {
     "data": {
      "text/plain": [
       "array([1, 2, 3])"
      ]
     },
     "metadata": {},
     "output_type": "display_data"
    },
    {
     "data": {
      "text/plain": [
       "array([4, 5, 6])"
      ]
     },
     "metadata": {},
     "output_type": "display_data"
    },
    {
     "data": {
      "text/plain": [
       "1"
      ]
     },
     "metadata": {},
     "output_type": "display_data"
    },
    {
     "data": {
      "text/plain": [
       "(3,)"
      ]
     },
     "metadata": {},
     "output_type": "display_data"
    }
   ],
   "source": [
    "#seleçao\n",
    "display(matriz[0]) #linha 0\n",
    "display(matriz[1]) #linha 1\n",
    "display(matriz[0].ndim) #1 dimensao\n",
    "display(matriz[0].shape)#(3, )"
   ]
  },
  {
   "cell_type": "code",
   "execution_count": 31,
   "id": "4e249be6",
   "metadata": {},
   "outputs": [
    {
     "data": {
      "text/plain": [
       "1"
      ]
     },
     "metadata": {},
     "output_type": "display_data"
    },
    {
     "data": {
      "text/plain": [
       "1"
      ]
     },
     "metadata": {},
     "output_type": "display_data"
    },
    {
     "data": {
      "text/plain": [
       "0"
      ]
     },
     "metadata": {},
     "output_type": "display_data"
    },
    {
     "data": {
      "text/plain": [
       "6"
      ]
     },
     "metadata": {},
     "output_type": "display_data"
    }
   ],
   "source": [
    "#referencinando linha, coluna\n",
    "display(matriz[0][0]) #linha 0,coluna 0\n",
    "#ou\n",
    "display(matriz[0,0])\n",
    "\n",
    "display(matriz[0,0].ndim) #0 dim = valor\n",
    "\n",
    "v=matriz[0,0]\n",
    "type(v) #numpy.int32\n",
    "\n",
    "display(matriz[1,2]) #linha 1,coluna 2"
   ]
  },
  {
   "cell_type": "code",
   "execution_count": 46,
   "id": "5b4be09e",
   "metadata": {},
   "outputs": [
    {
     "data": {
      "text/plain": [
       "array([[3, 2, 1],\n",
       "       [6, 5, 4]])"
      ]
     },
     "metadata": {},
     "output_type": "display_data"
    }
   ],
   "source": [
    "import numpy as np\n",
    "a = np.array([[3,2,1],[6,5,4]])\n",
    "display(a)"
   ]
  },
  {
   "cell_type": "code",
   "execution_count": 47,
   "id": "fddfff6e",
   "metadata": {},
   "outputs": [
    {
     "name": "stdout",
     "output_type": "stream",
     "text": [
      "[3 2]\n",
      "[3 2]\n",
      "[6 5]\n",
      "[6 5]\n",
      "\n",
      " [[3 2 1]]\n",
      "\n",
      " [[3 2 1]\n",
      " [6 5 4]]\n",
      "\n",
      " [[3 2 1]]\n"
     ]
    }
   ],
   "source": [
    "#Fatiamento(seleçao com intervalos)\n",
    "print(a[0][0:2]) #linha 0,coluna 0 e 1\n",
    "#ou\n",
    "print(a[0,0:2])\n",
    "\n",
    "print(a[1][0:2]) #linha 1,coluna 0 e 1\n",
    "#ou\n",
    "print(a[1,0:2])\n",
    "\n",
    "print('\\n',a[0:1]) #devolve matriz com primeira linha\n",
    "print('\\n',a[0:2]) #matriz com primeira e segunda linhas\n",
    "#fatimento\n",
    "print('\\n',a[0:2:2])"
   ]
  },
  {
   "cell_type": "code",
   "execution_count": 43,
   "id": "3366c990",
   "metadata": {},
   "outputs": [
    {
     "ename": "TypeError",
     "evalue": "list indices must be integers or slices, not tuple",
     "output_type": "error",
     "traceback": [
      "\u001b[1;31m---------------------------------------------------------------------------\u001b[0m",
      "\u001b[1;31mTypeError\u001b[0m                                 Traceback (most recent call last)",
      "\u001b[1;32m~\\AppData\\Local\\Temp\\ipykernel_1172\\190065494.py\u001b[0m in \u001b[0;36m<module>\u001b[1;34m\u001b[0m\n\u001b[0;32m      1\u001b[0m \u001b[1;31m#Fatiamento(seleçao com intervalos)\u001b[0m\u001b[1;33m\u001b[0m\u001b[1;33m\u001b[0m\u001b[0m\n\u001b[0;32m      2\u001b[0m \u001b[1;33m\u001b[0m\u001b[0m\n\u001b[1;32m----> 3\u001b[1;33m \u001b[0mprint\u001b[0m\u001b[1;33m(\u001b[0m\u001b[0ma\u001b[0m\u001b[1;33m[\u001b[0m\u001b[1;36m0\u001b[0m\u001b[1;33m,\u001b[0m \u001b[1;36m0\u001b[0m\u001b[1;33m:\u001b[0m\u001b[1;36m2\u001b[0m\u001b[1;33m]\u001b[0m\u001b[1;33m)\u001b[0m\u001b[1;33m\u001b[0m\u001b[1;33m\u001b[0m\u001b[0m\n\u001b[0m",
      "\u001b[1;31mTypeError\u001b[0m: list indices must be integers or slices, not tuple"
     ]
    }
   ],
   "source": [
    "#Fatiamento(seleçao com intervalos)\n",
    "\n",
    "print(a[0, 0:2])"
   ]
  }
 ],
 "metadata": {
  "kernelspec": {
   "display_name": "Python 3 (ipykernel)",
   "language": "python",
   "name": "python3"
  },
  "language_info": {
   "codemirror_mode": {
    "name": "ipython",
    "version": 3
   },
   "file_extension": ".py",
   "mimetype": "text/x-python",
   "name": "python",
   "nbconvert_exporter": "python",
   "pygments_lexer": "ipython3",
   "version": "3.9.13"
  }
 },
 "nbformat": 4,
 "nbformat_minor": 5
}
