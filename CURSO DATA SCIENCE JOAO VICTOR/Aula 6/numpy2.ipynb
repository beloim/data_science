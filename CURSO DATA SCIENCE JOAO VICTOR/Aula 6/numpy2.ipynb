{
 "cells": [
  {
   "cell_type": "code",
   "execution_count": 19,
   "id": "bfbe1811",
   "metadata": {},
   "outputs": [],
   "source": [
    "m=[[1,2,3],\n",
    "  [4,5,6]]"
   ]
  },
  {
   "cell_type": "code",
   "execution_count": 20,
   "id": "331000a1",
   "metadata": {},
   "outputs": [
    {
     "name": "stdout",
     "output_type": "stream",
     "text": [
      "[[1, 2, 3], [4, 5, 6]]\n"
     ]
    }
   ],
   "source": [
    "print(m)"
   ]
  },
  {
   "cell_type": "code",
   "execution_count": 21,
   "id": "72a40ee3",
   "metadata": {},
   "outputs": [
    {
     "data": {
      "text/plain": [
       "[[1, 2, 3], [4, 5, 6]]"
      ]
     },
     "metadata": {},
     "output_type": "display_data"
    }
   ],
   "source": [
    "display(m)"
   ]
  },
  {
   "cell_type": "code",
   "execution_count": 22,
   "id": "5b412509",
   "metadata": {},
   "outputs": [
    {
     "name": "stdout",
     "output_type": "stream",
     "text": [
      "[1, 2, 3]\n"
     ]
    }
   ],
   "source": [
    "print(m[0])"
   ]
  },
  {
   "cell_type": "code",
   "execution_count": 23,
   "id": "b86c828b",
   "metadata": {},
   "outputs": [
    {
     "name": "stdout",
     "output_type": "stream",
     "text": [
      "[4, 5, 6]\n"
     ]
    }
   ],
   "source": [
    "print(m[1])"
   ]
  },
  {
   "cell_type": "code",
   "execution_count": 24,
   "id": "818a99f6",
   "metadata": {},
   "outputs": [],
   "source": [
    "#axis=0=> coluna\n",
    "#axis=1=> linha"
   ]
  },
  {
   "cell_type": "code",
   "execution_count": 25,
   "id": "b6a5af48",
   "metadata": {},
   "outputs": [],
   "source": [
    "import numpy as np\n",
    "matriz =np.array([(3, 2, 1), (6, 5, 4)])"
   ]
  },
  {
   "cell_type": "code",
   "execution_count": 26,
   "id": "a722945c",
   "metadata": {},
   "outputs": [
    {
     "data": {
      "text/plain": [
       "array([[3, 2, 1],\n",
       "       [6, 5, 4]])"
      ]
     },
     "metadata": {},
     "output_type": "display_data"
    }
   ],
   "source": [
    "display(matriz)"
   ]
  },
  {
   "cell_type": "markdown",
   "id": "b57a07c9",
   "metadata": {},
   "source": [
    "### propriedades da matriz numpy"
   ]
  },
  {
   "cell_type": "raw",
   "id": "2688b4ca",
   "metadata": {},
   "source": [
    "numero de dimensoes:\n",
    "1D=[1,2,3]\n",
    "2D=[[1,2,3],[4,5,6]]\n",
    "3D=[[1,2,3],[4,5,6],[7,8,9],[10,11,12]]\n",
    "\n",
    "Tipo de dado:dtype=int32,int64,float32,float64,str,unicode\n",
    "Tamanho da matriz:size=>numero de elementos da matriz\n",
    "Formato da matriz:shape=>(2 lin,3 col)"
   ]
  },
  {
   "cell_type": "code",
   "execution_count": 27,
   "id": "819344af",
   "metadata": {},
   "outputs": [
    {
     "name": "stdout",
     "output_type": "stream",
     "text": [
      "2\n",
      "int32\n",
      "(2, 3)\n",
      "2\n",
      "3\n"
     ]
    }
   ],
   "source": [
    "print(matriz.ndim) #2 dimensoes\n",
    "print(matriz.dtype) #int 32\n",
    "print(matriz.shape) #(2,3)\n",
    "print(matriz.shape[0]) #2 linhas\n",
    "print(matriz.shape[1]) #3 colunas"
   ]
  },
  {
   "cell_type": "raw",
   "id": "f1a56558",
   "metadata": {},
   "source": [
    "Funçoes estatisticas:min,max,sum,std\n",
    "    "
   ]
  },
  {
   "cell_type": "code",
   "execution_count": 31,
   "id": "7626579d",
   "metadata": {},
   "outputs": [
    {
     "name": "stdout",
     "output_type": "stream",
     "text": [
      "Minimo: 1\n",
      "Maximo: 6\n",
      "Soma: 21\n",
      "Desvio Padrao: 1.707825127659933\n",
      "Desvio Padrao (colunas): [1.5 1.5 1.5]\n",
      "Desvio Padrao(linhas): [0.81649658 0.81649658]\n"
     ]
    },
    {
     "data": {
      "text/plain": [
       "array([[1, 2, 3],\n",
       "       [4, 5, 6]])"
      ]
     },
     "metadata": {},
     "output_type": "display_data"
    }
   ],
   "source": [
    "print('Minimo:',matriz.min())\n",
    "print('Maximo:',matriz.max())\n",
    "print('Soma:',matriz.sum()) #soma todos os valores\n",
    "print('Desvio Padrao:',matriz.std())\n",
    "print('Desvio Padrao (colunas):',matriz.std(axis=0))\n",
    "print('Desvio Padrao(linhas):',matriz.std(axis=1))\n",
    "matriz.sort() #ordena\n",
    "display(matriz)"
   ]
  },
  {
   "cell_type": "code",
   "execution_count": 32,
   "id": "983848c1",
   "metadata": {},
   "outputs": [
    {
     "name": "stdout",
     "output_type": "stream",
     "text": [
      "[[1, 2, 3], [4, 5, 6]]\n"
     ]
    }
   ],
   "source": [
    "lista= matriz.tolist()\n",
    "print(lista)"
   ]
  },
  {
   "cell_type": "code",
   "execution_count": 33,
   "id": "6dbe8bb5",
   "metadata": {},
   "outputs": [
    {
     "name": "stdout",
     "output_type": "stream",
     "text": [
      "[3 2 1]\n",
      "[6 5 4]\n",
      "2\n",
      "1\n",
      "<class 'numpy.ndarray'>\n"
     ]
    }
   ],
   "source": [
    "import numpy as np\n",
    "matriz =np.array([[3, 2, 1], \n",
    "                  [6, 5, 4]])\n",
    "#seleçao\n",
    "print(matriz[0]) #primeira linha\n",
    "print(matriz[1]) #segunda linhas\n",
    "print(matriz.ndim) #2D\n",
    "print(matriz[0].ndim) #1D\n",
    "print(type(matriz[0])) #cclass'numpy.ndarray"
   ]
  },
  {
   "cell_type": "code",
   "execution_count": 35,
   "id": "2259e465",
   "metadata": {},
   "outputs": [
    {
     "name": "stdout",
     "output_type": "stream",
     "text": [
      "3\n",
      "3\n",
      "0\n",
      "4\n",
      "4\n"
     ]
    }
   ],
   "source": [
    "print(matriz[0][0])#imprime 4\n",
    "print(matriz[0,0])#imprime 4\n",
    "print(matriz[0,0].ndim)#0 dim\n",
    "print(matriz[1][2])\n",
    "print(matriz[1,2])"
   ]
  },
  {
   "cell_type": "markdown",
   "id": "fe715387",
   "metadata": {},
   "source": [
    "#### Fatiamento(seleçao com intervalo)"
   ]
  },
  {
   "cell_type": "code",
   "execution_count": 36,
   "id": "31407d64",
   "metadata": {},
   "outputs": [
    {
     "data": {
      "text/plain": [
       "array([[3, 2, 1],\n",
       "       [6, 5, 4]])"
      ]
     },
     "metadata": {},
     "output_type": "display_data"
    }
   ],
   "source": [
    "display(matriz)"
   ]
  },
  {
   "cell_type": "code",
   "execution_count": 37,
   "id": "928fdb47",
   "metadata": {},
   "outputs": [
    {
     "data": {
      "text/plain": [
       "array([3, 2])"
      ]
     },
     "metadata": {},
     "output_type": "display_data"
    }
   ],
   "source": [
    "display(matriz[0][0:2])"
   ]
  },
  {
   "cell_type": "markdown",
   "id": "2b336fd2",
   "metadata": {},
   "source": [
    "#### Array de strings"
   ]
  },
  {
   "cell_type": "code",
   "execution_count": 39,
   "id": "8cbe8828",
   "metadata": {},
   "outputs": [
    {
     "data": {
      "text/plain": [
       "array(['kiwi', 'uva', 'banana'], dtype='<U6')"
      ]
     },
     "metadata": {},
     "output_type": "display_data"
    },
    {
     "name": "stdout",
     "output_type": "stream",
     "text": [
      "<U6\n"
     ]
    }
   ],
   "source": [
    "import numpy as np\n",
    "a=np.array(['kiwi','uva','banana'])\n",
    "display(a)\n",
    "print(a.dtype)"
   ]
  },
  {
   "cell_type": "markdown",
   "id": "a7645a4e",
   "metadata": {},
   "source": [
    "#### array a partir de arquivos inteiros\n",
    "#### baixar softgraf.com/cursodatascience/carros-km.txt"
   ]
  },
  {
   "cell_type": "markdown",
   "id": "eeee6ed5",
   "metadata": {},
   "source": [
    "#### lista =>array numpy =>Dataframe pandas"
   ]
  },
  {
   "cell_type": "code",
   "execution_count": null,
   "id": "63e5910d",
   "metadata": {},
   "outputs": [],
   "source": [
    "lista"
   ]
  }
 ],
 "metadata": {
  "kernelspec": {
   "display_name": "Python 3 (ipykernel)",
   "language": "python",
   "name": "python3"
  },
  "language_info": {
   "codemirror_mode": {
    "name": "ipython",
    "version": 3
   },
   "file_extension": ".py",
   "mimetype": "text/x-python",
   "name": "python",
   "nbconvert_exporter": "python",
   "pygments_lexer": "ipython3",
   "version": "3.9.13"
  }
 },
 "nbformat": 4,
 "nbformat_minor": 5
}
